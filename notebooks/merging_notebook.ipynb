{
 "cells": [
  {
   "cell_type": "code",
   "execution_count": 1,
   "id": "ec8696af-10d7-45f3-bcc3-52fd8a3ce824",
   "metadata": {},
   "outputs": [
    {
     "name": "stdout",
     "output_type": "stream",
     "text": [
      "D:\\SoftUni\\Data Science\\ProjectV2\n"
     ]
    }
   ],
   "source": [
    "%cd .."
   ]
  },
  {
   "cell_type": "markdown",
   "id": "514fe70a-9bf3-4d62-81dd-3009c1d0f74e",
   "metadata": {},
   "source": [
    "### Imports"
   ]
  },
  {
   "cell_type": "code",
   "execution_count": 2,
   "id": "0fcb3acc-62b1-4320-9ca6-9179317cea33",
   "metadata": {},
   "outputs": [],
   "source": [
    "import pandas as pd\n",
    "\n",
    "import numpy as np\n",
    "\n",
    "from src import functions"
   ]
  },
  {
   "cell_type": "markdown",
   "id": "d9c22c80-3881-44e0-9a88-75f0e7d1692a",
   "metadata": {},
   "source": [
    "In this notebook all preprocessed datasets are merged into final working dataset."
   ]
  },
  {
   "cell_type": "markdown",
   "id": "55aaed16-c81a-4d0a-94a3-504d2f46d90c",
   "metadata": {},
   "source": [
    "### Reading datasets"
   ]
  },
  {
   "cell_type": "code",
   "execution_count": 3,
   "id": "3af1d211-7677-4d6a-9a30-623363172537",
   "metadata": {},
   "outputs": [],
   "source": [
    "drugs_distribution_data = pd.read_csv('data/preprocessed_datasets/drugs_distribution_by_country.csv')"
   ]
  },
  {
   "cell_type": "code",
   "execution_count": 4,
   "id": "f42aee7f-04dc-4622-9a6c-63b9e532bbd6",
   "metadata": {},
   "outputs": [
    {
     "data": {
      "text/html": [
       "<div>\n",
       "<style scoped>\n",
       "    .dataframe tbody tr th:only-of-type {\n",
       "        vertical-align: middle;\n",
       "    }\n",
       "\n",
       "    .dataframe tbody tr th {\n",
       "        vertical-align: top;\n",
       "    }\n",
       "\n",
       "    .dataframe thead th {\n",
       "        text-align: right;\n",
       "    }\n",
       "</style>\n",
       "<table border=\"1\" class=\"dataframe\">\n",
       "  <thead>\n",
       "    <tr style=\"text-align: right;\">\n",
       "      <th></th>\n",
       "      <th>country</th>\n",
       "      <th>heroin_trade</th>\n",
       "      <th>cocaine_trade</th>\n",
       "      <th>cannabis_trade</th>\n",
       "      <th>synthetic_drug_trade</th>\n",
       "    </tr>\n",
       "  </thead>\n",
       "  <tbody>\n",
       "    <tr>\n",
       "      <th>0</th>\n",
       "      <td>Turkey</td>\n",
       "      <td>8.0</td>\n",
       "      <td>4.0</td>\n",
       "      <td>5.0</td>\n",
       "      <td>5.5</td>\n",
       "    </tr>\n",
       "    <tr>\n",
       "      <th>1</th>\n",
       "      <td>Cabo Verde</td>\n",
       "      <td>4.0</td>\n",
       "      <td>7.0</td>\n",
       "      <td>5.0</td>\n",
       "      <td>4.5</td>\n",
       "    </tr>\n",
       "    <tr>\n",
       "      <th>2</th>\n",
       "      <td>South Africa</td>\n",
       "      <td>7.5</td>\n",
       "      <td>5.5</td>\n",
       "      <td>3.5</td>\n",
       "      <td>8.5</td>\n",
       "    </tr>\n",
       "    <tr>\n",
       "      <th>3</th>\n",
       "      <td>Colombia</td>\n",
       "      <td>5.0</td>\n",
       "      <td>9.5</td>\n",
       "      <td>8.0</td>\n",
       "      <td>5.0</td>\n",
       "    </tr>\n",
       "    <tr>\n",
       "      <th>4</th>\n",
       "      <td>Peru</td>\n",
       "      <td>3.5</td>\n",
       "      <td>9.0</td>\n",
       "      <td>5.5</td>\n",
       "      <td>4.0</td>\n",
       "    </tr>\n",
       "    <tr>\n",
       "      <th>...</th>\n",
       "      <td>...</td>\n",
       "      <td>...</td>\n",
       "      <td>...</td>\n",
       "      <td>...</td>\n",
       "      <td>...</td>\n",
       "    </tr>\n",
       "    <tr>\n",
       "      <th>188</th>\n",
       "      <td>Jamaica</td>\n",
       "      <td>3.0</td>\n",
       "      <td>6.0</td>\n",
       "      <td>9.0</td>\n",
       "      <td>3.0</td>\n",
       "    </tr>\n",
       "    <tr>\n",
       "      <th>189</th>\n",
       "      <td>St. Vincent and the Grenadines</td>\n",
       "      <td>1.0</td>\n",
       "      <td>7.5</td>\n",
       "      <td>7.5</td>\n",
       "      <td>1.0</td>\n",
       "    </tr>\n",
       "    <tr>\n",
       "      <th>190</th>\n",
       "      <td>Slovenia</td>\n",
       "      <td>4.0</td>\n",
       "      <td>4.5</td>\n",
       "      <td>5.0</td>\n",
       "      <td>5.5</td>\n",
       "    </tr>\n",
       "    <tr>\n",
       "      <th>191</th>\n",
       "      <td>St. Lucia</td>\n",
       "      <td>1.0</td>\n",
       "      <td>7.0</td>\n",
       "      <td>7.0</td>\n",
       "      <td>1.0</td>\n",
       "    </tr>\n",
       "    <tr>\n",
       "      <th>192</th>\n",
       "      <td>Dominica</td>\n",
       "      <td>1.0</td>\n",
       "      <td>6.0</td>\n",
       "      <td>5.0</td>\n",
       "      <td>2.5</td>\n",
       "    </tr>\n",
       "  </tbody>\n",
       "</table>\n",
       "<p>193 rows × 5 columns</p>\n",
       "</div>"
      ],
      "text/plain": [
       "                            country  heroin_trade  cocaine_trade  \\\n",
       "0                            Turkey           8.0            4.0   \n",
       "1                        Cabo Verde           4.0            7.0   \n",
       "2                      South Africa           7.5            5.5   \n",
       "3                          Colombia           5.0            9.5   \n",
       "4                              Peru           3.5            9.0   \n",
       "..                              ...           ...            ...   \n",
       "188                         Jamaica           3.0            6.0   \n",
       "189  St. Vincent and the Grenadines           1.0            7.5   \n",
       "190                        Slovenia           4.0            4.5   \n",
       "191                       St. Lucia           1.0            7.0   \n",
       "192                        Dominica           1.0            6.0   \n",
       "\n",
       "     cannabis_trade  synthetic_drug_trade  \n",
       "0               5.0                   5.5  \n",
       "1               5.0                   4.5  \n",
       "2               3.5                   8.5  \n",
       "3               8.0                   5.0  \n",
       "4               5.5                   4.0  \n",
       "..              ...                   ...  \n",
       "188             9.0                   3.0  \n",
       "189             7.5                   1.0  \n",
       "190             5.0                   5.5  \n",
       "191             7.0                   1.0  \n",
       "192             5.0                   2.5  \n",
       "\n",
       "[193 rows x 5 columns]"
      ]
     },
     "execution_count": 4,
     "metadata": {},
     "output_type": "execute_result"
    }
   ],
   "source": [
    "drugs_distribution_data"
   ]
  },
  {
   "cell_type": "code",
   "execution_count": 5,
   "id": "2b6dfe67-91b0-49d5-8ff8-c46d44b0ac75",
   "metadata": {},
   "outputs": [],
   "source": [
    "mental_disorders_data = pd.read_csv('data/preprocessed_datasets/mental_disorders_by_country.csv')"
   ]
  },
  {
   "cell_type": "code",
   "execution_count": 6,
   "id": "2cd9d4d9-4261-4b68-a7f5-3ce604c2f199",
   "metadata": {},
   "outputs": [
    {
     "data": {
      "text/html": [
       "<div>\n",
       "<style scoped>\n",
       "    .dataframe tbody tr th:only-of-type {\n",
       "        vertical-align: middle;\n",
       "    }\n",
       "\n",
       "    .dataframe tbody tr th {\n",
       "        vertical-align: top;\n",
       "    }\n",
       "\n",
       "    .dataframe thead th {\n",
       "        text-align: right;\n",
       "    }\n",
       "</style>\n",
       "<table border=\"1\" class=\"dataframe\">\n",
       "  <thead>\n",
       "    <tr style=\"text-align: right;\">\n",
       "      <th></th>\n",
       "      <th>country</th>\n",
       "      <th>anxiety_disorders_rate</th>\n",
       "      <th>adh_disorders_rate</th>\n",
       "      <th>biploar_disorders_rate</th>\n",
       "      <th>depressive_disorders_rate</th>\n",
       "      <th>schizophrenia_rate</th>\n",
       "      <th>suds_rate</th>\n",
       "    </tr>\n",
       "  </thead>\n",
       "  <tbody>\n",
       "    <tr>\n",
       "      <th>0</th>\n",
       "      <td>Afghanistan</td>\n",
       "      <td>6036.0</td>\n",
       "      <td>1006.0</td>\n",
       "      <td>711.0</td>\n",
       "      <td>5916.0</td>\n",
       "      <td>218.0</td>\n",
       "      <td>413.0</td>\n",
       "    </tr>\n",
       "    <tr>\n",
       "      <th>1</th>\n",
       "      <td>Angola</td>\n",
       "      <td>4124.0</td>\n",
       "      <td>484.0</td>\n",
       "      <td>502.0</td>\n",
       "      <td>6772.0</td>\n",
       "      <td>224.0</td>\n",
       "      <td>277.0</td>\n",
       "    </tr>\n",
       "    <tr>\n",
       "      <th>2</th>\n",
       "      <td>Albania</td>\n",
       "      <td>4621.0</td>\n",
       "      <td>1014.0</td>\n",
       "      <td>480.0</td>\n",
       "      <td>2977.0</td>\n",
       "      <td>221.0</td>\n",
       "      <td>553.0</td>\n",
       "    </tr>\n",
       "    <tr>\n",
       "      <th>3</th>\n",
       "      <td>Andorra</td>\n",
       "      <td>6651.0</td>\n",
       "      <td>1291.0</td>\n",
       "      <td>820.0</td>\n",
       "      <td>4495.0</td>\n",
       "      <td>271.0</td>\n",
       "      <td>789.0</td>\n",
       "    </tr>\n",
       "    <tr>\n",
       "      <th>4</th>\n",
       "      <td>United Arab Emirates</td>\n",
       "      <td>5168.0</td>\n",
       "      <td>448.0</td>\n",
       "      <td>713.0</td>\n",
       "      <td>4332.0</td>\n",
       "      <td>266.0</td>\n",
       "      <td>732.0</td>\n",
       "    </tr>\n",
       "    <tr>\n",
       "      <th>...</th>\n",
       "      <td>...</td>\n",
       "      <td>...</td>\n",
       "      <td>...</td>\n",
       "      <td>...</td>\n",
       "      <td>...</td>\n",
       "      <td>...</td>\n",
       "      <td>...</td>\n",
       "    </tr>\n",
       "    <tr>\n",
       "      <th>199</th>\n",
       "      <td>Zambia</td>\n",
       "      <td>4505.0</td>\n",
       "      <td>487.0</td>\n",
       "      <td>549.0</td>\n",
       "      <td>4911.0</td>\n",
       "      <td>217.0</td>\n",
       "      <td>290.0</td>\n",
       "    </tr>\n",
       "    <tr>\n",
       "      <th>200</th>\n",
       "      <td>Zimbabwe</td>\n",
       "      <td>3913.0</td>\n",
       "      <td>485.0</td>\n",
       "      <td>500.0</td>\n",
       "      <td>3910.0</td>\n",
       "      <td>208.0</td>\n",
       "      <td>408.0</td>\n",
       "    </tr>\n",
       "    <tr>\n",
       "      <th>201</th>\n",
       "      <td>Egypt</td>\n",
       "      <td>5214.0</td>\n",
       "      <td>1010.0</td>\n",
       "      <td>687.0</td>\n",
       "      <td>4605.0</td>\n",
       "      <td>243.0</td>\n",
       "      <td>368.0</td>\n",
       "    </tr>\n",
       "    <tr>\n",
       "      <th>202</th>\n",
       "      <td>Sudan</td>\n",
       "      <td>5734.0</td>\n",
       "      <td>1002.0</td>\n",
       "      <td>715.0</td>\n",
       "      <td>5035.0</td>\n",
       "      <td>231.0</td>\n",
       "      <td>378.0</td>\n",
       "    </tr>\n",
       "    <tr>\n",
       "      <th>203</th>\n",
       "      <td>China</td>\n",
       "      <td>3482.0</td>\n",
       "      <td>2184.0</td>\n",
       "      <td>173.0</td>\n",
       "      <td>2876.0</td>\n",
       "      <td>312.0</td>\n",
       "      <td>540.0</td>\n",
       "    </tr>\n",
       "  </tbody>\n",
       "</table>\n",
       "<p>204 rows × 7 columns</p>\n",
       "</div>"
      ],
      "text/plain": [
       "                  country  anxiety_disorders_rate  adh_disorders_rate  \\\n",
       "0             Afghanistan                  6036.0              1006.0   \n",
       "1                  Angola                  4124.0               484.0   \n",
       "2                 Albania                  4621.0              1014.0   \n",
       "3                 Andorra                  6651.0              1291.0   \n",
       "4    United Arab Emirates                  5168.0               448.0   \n",
       "..                    ...                     ...                 ...   \n",
       "199                Zambia                  4505.0               487.0   \n",
       "200              Zimbabwe                  3913.0               485.0   \n",
       "201                 Egypt                  5214.0              1010.0   \n",
       "202                 Sudan                  5734.0              1002.0   \n",
       "203                 China                  3482.0              2184.0   \n",
       "\n",
       "     biploar_disorders_rate  depressive_disorders_rate  schizophrenia_rate  \\\n",
       "0                     711.0                     5916.0               218.0   \n",
       "1                     502.0                     6772.0               224.0   \n",
       "2                     480.0                     2977.0               221.0   \n",
       "3                     820.0                     4495.0               271.0   \n",
       "4                     713.0                     4332.0               266.0   \n",
       "..                      ...                        ...                 ...   \n",
       "199                   549.0                     4911.0               217.0   \n",
       "200                   500.0                     3910.0               208.0   \n",
       "201                   687.0                     4605.0               243.0   \n",
       "202                   715.0                     5035.0               231.0   \n",
       "203                   173.0                     2876.0               312.0   \n",
       "\n",
       "     suds_rate  \n",
       "0        413.0  \n",
       "1        277.0  \n",
       "2        553.0  \n",
       "3        789.0  \n",
       "4        732.0  \n",
       "..         ...  \n",
       "199      290.0  \n",
       "200      408.0  \n",
       "201      368.0  \n",
       "202      378.0  \n",
       "203      540.0  \n",
       "\n",
       "[204 rows x 7 columns]"
      ]
     },
     "execution_count": 6,
     "metadata": {},
     "output_type": "execute_result"
    }
   ],
   "source": [
    "mental_disorders_data"
   ]
  },
  {
   "cell_type": "code",
   "execution_count": 7,
   "id": "e9a1f10b-aba7-4a11-b715-8a2dd6b6b726",
   "metadata": {},
   "outputs": [],
   "source": [
    "# suds_data = pd.read_csv('data/preprocessed_datasets/sud_disorders_by_country.csv')"
   ]
  },
  {
   "cell_type": "code",
   "execution_count": 8,
   "id": "4bbfb3cb-1b8a-44bd-97fc-bdf7c89e2dd5",
   "metadata": {},
   "outputs": [],
   "source": [
    "# suds_data"
   ]
  },
  {
   "cell_type": "markdown",
   "id": "d4ebf116-a9db-47dd-bb2a-ad0c696bfc2d",
   "metadata": {},
   "source": [
    "<!-- ### Merging datasets containing data for diffrent mental disorders rates and substance use disorders rates -->"
   ]
  },
  {
   "cell_type": "code",
   "execution_count": 9,
   "id": "50e98795-1610-4e45-a6b8-69d99130673c",
   "metadata": {},
   "outputs": [],
   "source": [
    "# disorders_data = mental_disorders_data.merge(suds_data, on = 'country', how = 'inner')"
   ]
  },
  {
   "cell_type": "code",
   "execution_count": 10,
   "id": "229b958b-523e-4653-be0e-a45e1293db2d",
   "metadata": {},
   "outputs": [],
   "source": [
    "# disorders_data"
   ]
  },
  {
   "cell_type": "markdown",
   "id": "5fe7dfca-cc98-4426-b253-a66da73d6b15",
   "metadata": {},
   "source": [
    "### Preprocessing 'country' column"
   ]
  },
  {
   "cell_type": "markdown",
   "id": "c2f3a841-f7ae-4d30-b446-ea613473817f",
   "metadata": {},
   "source": [
    "The goal is to merge 'mental_disorders' and 'drugs distribution' datasets by their common column - 'country'."
   ]
  },
  {
   "cell_type": "code",
   "execution_count": 11,
   "id": "4d485cbb-b742-4cae-ae43-c92d2365517c",
   "metadata": {},
   "outputs": [],
   "source": [
    "countries_in_drugs_data = np.sort(drugs_distribution_data['country'].unique())"
   ]
  },
  {
   "cell_type": "code",
   "execution_count": 12,
   "id": "d63d2d21-23d3-4243-8a77-2d5bb66364b3",
   "metadata": {},
   "outputs": [
    {
     "data": {
      "text/plain": [
       "193"
      ]
     },
     "execution_count": 12,
     "metadata": {},
     "output_type": "execute_result"
    }
   ],
   "source": [
    "len(countries_in_drugs_data)"
   ]
  },
  {
   "cell_type": "code",
   "execution_count": 13,
   "id": "705a7731-14cf-45ee-81db-202a12cb2816",
   "metadata": {},
   "outputs": [],
   "source": [
    "countrues_in_disorders_data = np.sort(mental_disorders_data['country'].unique())"
   ]
  },
  {
   "cell_type": "code",
   "execution_count": 14,
   "id": "eb027ac9-9bcf-4614-9aa6-9eb843e69a9e",
   "metadata": {},
   "outputs": [
    {
     "data": {
      "text/plain": [
       "204"
      ]
     },
     "execution_count": 14,
     "metadata": {},
     "output_type": "execute_result"
    }
   ],
   "source": [
    "len(countrues_in_disorders_data)"
   ]
  },
  {
   "cell_type": "markdown",
   "id": "18d51f99-89ec-4a36-a376-d03878235685",
   "metadata": {},
   "source": [
    "Countries in 'mental_disorders_data' are 11 more than in 'drugs_distribution_data'. \n",
    "My approach here will be to drop the countries in each dataset which are not present in the another. At the other hand there are some differences between the spelling of the same countries in both datasets, which requires additional prepocessing."
   ]
  },
  {
   "cell_type": "code",
   "execution_count": 15,
   "id": "2c60ac29-17db-437a-8006-9c628f97ef01",
   "metadata": {},
   "outputs": [],
   "source": [
    "# Country names which are present in drugs distribution dataset but not in the disorders dataset\n",
    "different_names_in_drugs = np.setdiff1d(countries_in_drugs_data, countrues_in_disorders_data)"
   ]
  },
  {
   "cell_type": "code",
   "execution_count": 16,
   "id": "4eae5d49-3d1c-4c44-a4ce-a59ffd9cf8a6",
   "metadata": {},
   "outputs": [
    {
     "data": {
      "text/plain": [
       "array(['Bolivia', 'Brunei', 'Congo, Dem. Rep.', 'Congo, Rep.',\n",
       "       'Czech Republic', 'Iran', 'Korea, DPR', 'Korea, Rep.', 'Laos',\n",
       "       'Liechtenstein', 'Moldova', 'Russia', 'St. Kitts and Nevis',\n",
       "       'St. Lucia', 'St. Vincent and the Grenadines', 'Syria', 'Tanzania',\n",
       "       'Turkey', 'United States', 'Venezuela', 'Vietnam'], dtype=object)"
      ]
     },
     "execution_count": 16,
     "metadata": {},
     "output_type": "execute_result"
    }
   ],
   "source": [
    "different_names_in_drugs"
   ]
  },
  {
   "cell_type": "code",
   "execution_count": 17,
   "id": "e93061be-fb64-46cb-b18f-d1cc7d0c744b",
   "metadata": {},
   "outputs": [
    {
     "data": {
      "text/plain": [
       "array(['American Samoa', 'Bermuda', 'Bolivia (Plurinational State of)',\n",
       "       'Brunei Darussalam', 'Congo', 'Cook Islands', 'Czechia',\n",
       "       \"Democratic People's Republic of Korea\",\n",
       "       'Democratic Republic of the Congo', 'Greenland', 'Guam',\n",
       "       'Iran (Islamic Republic of)', \"Lao People's Democratic Republic\",\n",
       "       'Niue', 'Northern Mariana Islands', 'Palestine', 'Puerto Rico',\n",
       "       'Republic of Korea', 'Republic of Moldova', 'Russian Federation',\n",
       "       'Saint Kitts and Nevis', 'Saint Lucia',\n",
       "       'Saint Vincent and the Grenadines', 'Syrian Arab Republic',\n",
       "       'Taiwan (Province of China)', 'Tokelau', 'Türkiye',\n",
       "       'United Republic of Tanzania', 'United States Virgin Islands',\n",
       "       'United States of America', 'Venezuela (Bolivarian Republic of)',\n",
       "       'Viet Nam'], dtype=object)"
      ]
     },
     "execution_count": 17,
     "metadata": {},
     "output_type": "execute_result"
    }
   ],
   "source": [
    "# Country names which are present in the disorders dataset but not in the drugs distribution dataset\n",
    "np.setdiff1d(countrues_in_disorders_data, countries_in_drugs_data)"
   ]
  },
  {
   "cell_type": "markdown",
   "id": "e4446041-766f-4602-a6c5-af31784e4e2d",
   "metadata": {},
   "source": [
    "We can observe that data for Liechtenstein as a country is present only in drugs dataframe. Also there are several countries that are present only in mental disorders dataset. The merge process will 'clean' all of them from the resulting dataframe. The only remain for preprocessing countries will be these with different spelled names. A little work of comparing the above arrays is required in order to create an array which contains all different spelled country names in disordes dataset. Then it will be easy to equalize them to the corresponding countries in drugs dataframe and to merge them after."
   ]
  },
  {
   "cell_type": "code",
   "execution_count": 18,
   "id": "50b4b5e8-f1c5-42f5-bfd0-fd690905a343",
   "metadata": {},
   "outputs": [],
   "source": [
    "different_spelled_countries_in_disorders = np.array(['Bolivia (Plurinational State of)', 'Brunei Darussalam', 'Democratic Republic of the Congo', 'Congo', 'Czechia',\n",
    "                    'Iran (Islamic Republic of)', 'Democratic People\\'s Republic of Korea', 'Republic of Korea', 'Lao People\\'s Democratic Republic',\n",
    "                    'Republic of Moldova', 'Russian Federation','Saint Kitts and Nevis', 'Saint Lucia', 'Saint Vincent and the Grenadines',\n",
    "                    'Syrian Arab Republic', 'United Republic of Tanzania', 'Türkiye','United States of America', 'Venezuela (Bolivarian Republic of)', 'Viet Nam'])"
   ]
  },
  {
   "cell_type": "code",
   "execution_count": 19,
   "id": "9c63c187-3b86-4c00-b484-39b5fd827df5",
   "metadata": {},
   "outputs": [],
   "source": [
    "# Delete Liechtenstein in the array\n",
    "index = np.argwhere(different_names_in_drugs == 'Liechtenstein')\n",
    "different_names_in_drugs = np.delete(different_names_in_drugs, index)"
   ]
  },
  {
   "cell_type": "markdown",
   "id": "d889d4ff-5ef8-49f5-a006-e09a66843025",
   "metadata": {},
   "source": [
    "Now I can create a dictionary with key - value pairs corresponding to all different spelled countries in both dataframes."
   ]
  },
  {
   "cell_type": "code",
   "execution_count": 20,
   "id": "dcc42a37-e322-45aa-b54c-e4b7b0b1fbb7",
   "metadata": {},
   "outputs": [],
   "source": [
    "different_named_countries_dict = {k: v for k, v in zip(different_spelled_countries_in_disorders, different_names_in_drugs)}"
   ]
  },
  {
   "cell_type": "code",
   "execution_count": 21,
   "id": "9949c2f2-112c-45b0-bef8-6de8f9b51ee7",
   "metadata": {},
   "outputs": [
    {
     "data": {
      "text/plain": [
       "{'Bolivia (Plurinational State of)': 'Bolivia',\n",
       " 'Brunei Darussalam': 'Brunei',\n",
       " 'Democratic Republic of the Congo': 'Congo, Dem. Rep.',\n",
       " 'Congo': 'Congo, Rep.',\n",
       " 'Czechia': 'Czech Republic',\n",
       " 'Iran (Islamic Republic of)': 'Iran',\n",
       " \"Democratic People's Republic of Korea\": 'Korea, DPR',\n",
       " 'Republic of Korea': 'Korea, Rep.',\n",
       " \"Lao People's Democratic Republic\": 'Laos',\n",
       " 'Republic of Moldova': 'Moldova',\n",
       " 'Russian Federation': 'Russia',\n",
       " 'Saint Kitts and Nevis': 'St. Kitts and Nevis',\n",
       " 'Saint Lucia': 'St. Lucia',\n",
       " 'Saint Vincent and the Grenadines': 'St. Vincent and the Grenadines',\n",
       " 'Syrian Arab Republic': 'Syria',\n",
       " 'United Republic of Tanzania': 'Tanzania',\n",
       " 'Türkiye': 'Turkey',\n",
       " 'United States of America': 'United States',\n",
       " 'Venezuela (Bolivarian Republic of)': 'Venezuela',\n",
       " 'Viet Nam': 'Vietnam'}"
      ]
     },
     "execution_count": 21,
     "metadata": {},
     "output_type": "execute_result"
    }
   ],
   "source": [
    "different_named_countries_dict"
   ]
  },
  {
   "cell_type": "markdown",
   "id": "a670ae3c-11fb-4b96-94a0-7f230a0dd389",
   "metadata": {},
   "source": [
    "The dictionary is used to change the misspelled country names in disorders dataset."
   ]
  },
  {
   "cell_type": "code",
   "execution_count": 22,
   "id": "1a9f61ec-71dd-47c8-8f6a-fde22ee406db",
   "metadata": {},
   "outputs": [
    {
     "name": "stderr",
     "output_type": "stream",
     "text": [
      "D:\\SoftUni\\Data Science\\ProjectV2\\src\\functions.py:22: FutureWarning: A value is trying to be set on a copy of a DataFrame or Series through chained assignment using an inplace method.\n",
      "The behavior will change in pandas 3.0. This inplace method will never work because the intermediate object on which we are setting values always behaves as a copy.\n",
      "\n",
      "For example, when doing 'df[col].method(value, inplace=True)', try using 'df.method({col: value}, inplace=True)' or df[col] = df[col].method(value) instead, to perform the operation inplace on the original object.\n",
      "\n",
      "\n",
      "  df[col].replace(df[df[col] == key][col].values[0], value, inplace = True)\n"
     ]
    }
   ],
   "source": [
    "functions.rplace_col_values(dict = different_named_countries_dict, df = mental_disorders_data, col = 'country')"
   ]
  },
  {
   "cell_type": "markdown",
   "id": "b91d75a4-6739-4e42-b8fa-50a1c038d13f",
   "metadata": {},
   "source": [
    "### Merging disorders and drugs distribution datasets"
   ]
  },
  {
   "cell_type": "markdown",
   "id": "ad6e5090-0dab-45f7-8513-eea35548b328",
   "metadata": {},
   "source": [
    "Now I can merge the data from both dataframes to get a resulted dataframe with 192 observations(number of countries in drugs data - 1 for Liechtenstein) and 11 features."
   ]
  },
  {
   "cell_type": "code",
   "execution_count": 23,
   "id": "ff37a54f-b968-43a8-8f72-778b604c611c",
   "metadata": {},
   "outputs": [],
   "source": [
    "drugs_disorders_data = drugs_distribution_data.merge(mental_disorders_data, on = \"country\", how = 'inner')"
   ]
  },
  {
   "cell_type": "code",
   "execution_count": 24,
   "id": "25f61449-e341-435e-b79b-b19c5b52f732",
   "metadata": {},
   "outputs": [
    {
     "data": {
      "text/html": [
       "<div>\n",
       "<style scoped>\n",
       "    .dataframe tbody tr th:only-of-type {\n",
       "        vertical-align: middle;\n",
       "    }\n",
       "\n",
       "    .dataframe tbody tr th {\n",
       "        vertical-align: top;\n",
       "    }\n",
       "\n",
       "    .dataframe thead th {\n",
       "        text-align: right;\n",
       "    }\n",
       "</style>\n",
       "<table border=\"1\" class=\"dataframe\">\n",
       "  <thead>\n",
       "    <tr style=\"text-align: right;\">\n",
       "      <th></th>\n",
       "      <th>country</th>\n",
       "      <th>heroin_trade</th>\n",
       "      <th>cocaine_trade</th>\n",
       "      <th>cannabis_trade</th>\n",
       "      <th>synthetic_drug_trade</th>\n",
       "      <th>anxiety_disorders_rate</th>\n",
       "      <th>adh_disorders_rate</th>\n",
       "      <th>biploar_disorders_rate</th>\n",
       "      <th>depressive_disorders_rate</th>\n",
       "      <th>schizophrenia_rate</th>\n",
       "      <th>suds_rate</th>\n",
       "    </tr>\n",
       "  </thead>\n",
       "  <tbody>\n",
       "    <tr>\n",
       "      <th>0</th>\n",
       "      <td>Turkey</td>\n",
       "      <td>8.0</td>\n",
       "      <td>4.0</td>\n",
       "      <td>5.0</td>\n",
       "      <td>5.5</td>\n",
       "      <td>5420.0</td>\n",
       "      <td>1375.0</td>\n",
       "      <td>737.0</td>\n",
       "      <td>4730.0</td>\n",
       "      <td>246.0</td>\n",
       "      <td>323.0</td>\n",
       "    </tr>\n",
       "    <tr>\n",
       "      <th>1</th>\n",
       "      <td>Cabo Verde</td>\n",
       "      <td>4.0</td>\n",
       "      <td>7.0</td>\n",
       "      <td>5.0</td>\n",
       "      <td>4.5</td>\n",
       "      <td>3496.0</td>\n",
       "      <td>505.0</td>\n",
       "      <td>473.0</td>\n",
       "      <td>5801.0</td>\n",
       "      <td>241.0</td>\n",
       "      <td>291.0</td>\n",
       "    </tr>\n",
       "  </tbody>\n",
       "</table>\n",
       "</div>"
      ],
      "text/plain": [
       "      country  heroin_trade  cocaine_trade  cannabis_trade  \\\n",
       "0      Turkey           8.0            4.0             5.0   \n",
       "1  Cabo Verde           4.0            7.0             5.0   \n",
       "\n",
       "   synthetic_drug_trade  anxiety_disorders_rate  adh_disorders_rate  \\\n",
       "0                   5.5                  5420.0              1375.0   \n",
       "1                   4.5                  3496.0               505.0   \n",
       "\n",
       "   biploar_disorders_rate  depressive_disorders_rate  schizophrenia_rate  \\\n",
       "0                   737.0                     4730.0               246.0   \n",
       "1                   473.0                     5801.0               241.0   \n",
       "\n",
       "   suds_rate  \n",
       "0      323.0  \n",
       "1      291.0  "
      ]
     },
     "execution_count": 24,
     "metadata": {},
     "output_type": "execute_result"
    }
   ],
   "source": [
    "drugs_disorders_data.head(2)"
   ]
  },
  {
   "cell_type": "code",
   "execution_count": 25,
   "id": "e3a11909-084a-4102-86b6-3e4112f734e9",
   "metadata": {},
   "outputs": [
    {
     "name": "stdout",
     "output_type": "stream",
     "text": [
      "<class 'pandas.core.frame.DataFrame'>\n",
      "RangeIndex: 192 entries, 0 to 191\n",
      "Data columns (total 11 columns):\n",
      " #   Column                     Non-Null Count  Dtype  \n",
      "---  ------                     --------------  -----  \n",
      " 0   country                    192 non-null    object \n",
      " 1   heroin_trade               192 non-null    float64\n",
      " 2   cocaine_trade              192 non-null    float64\n",
      " 3   cannabis_trade             192 non-null    float64\n",
      " 4   synthetic_drug_trade       192 non-null    float64\n",
      " 5   anxiety_disorders_rate     192 non-null    float64\n",
      " 6   adh_disorders_rate         192 non-null    float64\n",
      " 7   biploar_disorders_rate     192 non-null    float64\n",
      " 8   depressive_disorders_rate  192 non-null    float64\n",
      " 9   schizophrenia_rate         192 non-null    float64\n",
      " 10  suds_rate                  192 non-null    float64\n",
      "dtypes: float64(10), object(1)\n",
      "memory usage: 16.6+ KB\n"
     ]
    }
   ],
   "source": [
    "drugs_disorders_data.info()"
   ]
  },
  {
   "cell_type": "markdown",
   "id": "a2103cc1-87f3-4580-90e8-ca0d09f99a14",
   "metadata": {},
   "source": [
    "### Saving final dataset"
   ]
  },
  {
   "cell_type": "code",
   "execution_count": 26,
   "id": "4532f72c-3b96-48d4-ae5d-8c23b30e6e0c",
   "metadata": {},
   "outputs": [],
   "source": [
    "drugs_disorders_data.to_csv('data/final_merged_dataset/drugs_disorders_by_country.csv', index = False)"
   ]
  },
  {
   "cell_type": "markdown",
   "id": "dc52f19f-1f0f-462f-b917-e56472262b53",
   "metadata": {},
   "source": [
    "### Equalize different spelled names in healthcare dataset"
   ]
  },
  {
   "cell_type": "code",
   "execution_count": 47,
   "id": "bb2799d9-2c55-47e7-82d0-f3d0c461733c",
   "metadata": {},
   "outputs": [],
   "source": [
    "healthcare_data = pd.read_csv('data/preprocessed_datasets/healthcare_index_by_country.csv')"
   ]
  },
  {
   "cell_type": "code",
   "execution_count": 94,
   "id": "69d3256d-372d-4073-b0fd-71ecc7a32823",
   "metadata": {},
   "outputs": [
    {
     "data": {
      "text/html": [
       "<div>\n",
       "<style scoped>\n",
       "    .dataframe tbody tr th:only-of-type {\n",
       "        vertical-align: middle;\n",
       "    }\n",
       "\n",
       "    .dataframe tbody tr th {\n",
       "        vertical-align: top;\n",
       "    }\n",
       "\n",
       "    .dataframe thead th {\n",
       "        text-align: right;\n",
       "    }\n",
       "</style>\n",
       "<table border=\"1\" class=\"dataframe\">\n",
       "  <thead>\n",
       "    <tr style=\"text-align: right;\">\n",
       "      <th></th>\n",
       "      <th>rank</th>\n",
       "      <th>country</th>\n",
       "      <th>healthcare_index</th>\n",
       "    </tr>\n",
       "  </thead>\n",
       "  <tbody>\n",
       "    <tr>\n",
       "      <th>0</th>\n",
       "      <td>1</td>\n",
       "      <td>Taiwan</td>\n",
       "      <td>78.72</td>\n",
       "    </tr>\n",
       "    <tr>\n",
       "      <th>1</th>\n",
       "      <td>2</td>\n",
       "      <td>South Korea</td>\n",
       "      <td>77.70</td>\n",
       "    </tr>\n",
       "    <tr>\n",
       "      <th>2</th>\n",
       "      <td>3</td>\n",
       "      <td>Australia</td>\n",
       "      <td>74.11</td>\n",
       "    </tr>\n",
       "    <tr>\n",
       "      <th>3</th>\n",
       "      <td>4</td>\n",
       "      <td>Canada</td>\n",
       "      <td>71.32</td>\n",
       "    </tr>\n",
       "    <tr>\n",
       "      <th>4</th>\n",
       "      <td>5</td>\n",
       "      <td>Sweden</td>\n",
       "      <td>70.73</td>\n",
       "    </tr>\n",
       "    <tr>\n",
       "      <th>...</th>\n",
       "      <td>...</td>\n",
       "      <td>...</td>\n",
       "      <td>...</td>\n",
       "    </tr>\n",
       "    <tr>\n",
       "      <th>105</th>\n",
       "      <td>106</td>\n",
       "      <td>Bolivia</td>\n",
       "      <td>22.30</td>\n",
       "    </tr>\n",
       "    <tr>\n",
       "      <th>106</th>\n",
       "      <td>107</td>\n",
       "      <td>Paraguay</td>\n",
       "      <td>21.90</td>\n",
       "    </tr>\n",
       "    <tr>\n",
       "      <th>107</th>\n",
       "      <td>108</td>\n",
       "      <td>Nepal</td>\n",
       "      <td>21.40</td>\n",
       "    </tr>\n",
       "    <tr>\n",
       "      <th>108</th>\n",
       "      <td>109</td>\n",
       "      <td>Honduras</td>\n",
       "      <td>19.60</td>\n",
       "    </tr>\n",
       "    <tr>\n",
       "      <th>109</th>\n",
       "      <td>110</td>\n",
       "      <td>El Salvador</td>\n",
       "      <td>18.60</td>\n",
       "    </tr>\n",
       "  </tbody>\n",
       "</table>\n",
       "<p>110 rows × 3 columns</p>\n",
       "</div>"
      ],
      "text/plain": [
       "     rank      country  healthcare_index\n",
       "0       1       Taiwan             78.72\n",
       "1       2  South Korea             77.70\n",
       "2       3    Australia             74.11\n",
       "3       4       Canada             71.32\n",
       "4       5       Sweden             70.73\n",
       "..    ...          ...               ...\n",
       "105   106      Bolivia             22.30\n",
       "106   107     Paraguay             21.90\n",
       "107   108        Nepal             21.40\n",
       "108   109     Honduras             19.60\n",
       "109   110  El Salvador             18.60\n",
       "\n",
       "[110 rows x 3 columns]"
      ]
     },
     "execution_count": 94,
     "metadata": {},
     "output_type": "execute_result"
    }
   ],
   "source": [
    "healthcare_data"
   ]
  },
  {
   "cell_type": "code",
   "execution_count": 48,
   "id": "60a419a5-20aa-41bf-b3c7-99a309a42df7",
   "metadata": {},
   "outputs": [],
   "source": [
    "countries_in_healthcare_data = np.sort(healthcare_data['country'].unique())"
   ]
  },
  {
   "cell_type": "code",
   "execution_count": 49,
   "id": "5406c793-4b27-4c5d-b1cc-0df694d3e92e",
   "metadata": {},
   "outputs": [
    {
     "data": {
      "text/plain": [
       "109"
      ]
     },
     "execution_count": 49,
     "metadata": {},
     "output_type": "execute_result"
    }
   ],
   "source": [
    "len(countries_in_healthcare_data)"
   ]
  },
  {
   "cell_type": "code",
   "execution_count": 50,
   "id": "8d4df898-e96c-437e-a4f0-f50b33ca9e21",
   "metadata": {},
   "outputs": [],
   "source": [
    "different_names_in_healtcare = np.setdiff1d(countries_in_healthcare_data, np.sort(drugs_disorders_data['country'].unique()))"
   ]
  },
  {
   "cell_type": "code",
   "execution_count": 51,
   "id": "dd56191b-e86f-4695-8ee4-6193f23687d1",
   "metadata": {},
   "outputs": [
    {
     "data": {
      "text/plain": [
       "array(['Bosnia And Herzegovina', 'Cote dIvoire',\n",
       "       'Democratic Republic of the Congo', 'Hong Kong', 'Puerto Rico',\n",
       "       'South Korea', 'Taiwan'], dtype=object)"
      ]
     },
     "execution_count": 51,
     "metadata": {},
     "output_type": "execute_result"
    }
   ],
   "source": [
    "different_names_in_healtcare"
   ]
  },
  {
   "cell_type": "code",
   "execution_count": 52,
   "id": "244cbd96-f23c-4b90-989a-615dcd41fd96",
   "metadata": {},
   "outputs": [
    {
     "data": {
      "text/plain": [
       "array(['Afghanistan', 'Albania', 'Algeria', 'Andorra', 'Angola',\n",
       "       'Antigua and Barbuda', 'Argentina', 'Armenia', 'Australia',\n",
       "       'Austria', 'Azerbaijan', 'Bahamas', 'Bahrain', 'Bangladesh',\n",
       "       'Barbados', 'Belarus', 'Belgium', 'Belize', 'Benin', 'Bhutan',\n",
       "       'Bolivia', 'Bosnia and Herzegovina', 'Botswana', 'Brazil',\n",
       "       'Brunei', 'Bulgaria', 'Burkina Faso', 'Burundi', 'Cabo Verde',\n",
       "       'Cambodia', 'Cameroon', 'Canada', 'Central African Republic',\n",
       "       'Chad', 'Chile', 'China', 'Colombia', 'Comoros',\n",
       "       'Congo, Dem. Rep.', 'Congo, Rep.', 'Costa Rica', 'Croatia', 'Cuba',\n",
       "       'Cyprus', 'Czech Republic', \"Côte d'Ivoire\", 'Denmark', 'Djibouti',\n",
       "       'Dominica', 'Dominican Republic', 'Ecuador', 'Egypt',\n",
       "       'El Salvador', 'Equatorial Guinea', 'Eritrea', 'Estonia',\n",
       "       'Eswatini', 'Ethiopia', 'Fiji', 'Finland', 'France', 'Gabon',\n",
       "       'Gambia', 'Georgia', 'Germany', 'Ghana', 'Greece', 'Grenada',\n",
       "       'Guatemala', 'Guinea', 'Guinea-Bissau', 'Guyana', 'Haiti',\n",
       "       'Honduras', 'Hungary', 'Iceland', 'India', 'Indonesia', 'Iran',\n",
       "       'Iraq', 'Ireland', 'Israel', 'Italy', 'Jamaica', 'Japan', 'Jordan',\n",
       "       'Kazakhstan', 'Kenya', 'Kiribati', 'Korea, DPR', 'Korea, Rep.',\n",
       "       'Kuwait', 'Kyrgyzstan', 'Laos', 'Latvia', 'Lebanon', 'Lesotho',\n",
       "       'Liberia', 'Libya', 'Lithuania', 'Luxembourg', 'Madagascar',\n",
       "       'Malawi', 'Malaysia', 'Maldives', 'Mali', 'Malta',\n",
       "       'Marshall Islands', 'Mauritania', 'Mauritius', 'Mexico',\n",
       "       'Micronesia (Federated States of)', 'Moldova', 'Monaco',\n",
       "       'Mongolia', 'Montenegro', 'Morocco', 'Mozambique', 'Myanmar',\n",
       "       'Namibia', 'Nauru', 'Nepal', 'Netherlands', 'New Zealand',\n",
       "       'Nicaragua', 'Niger', 'Nigeria', 'North Macedonia', 'Norway',\n",
       "       'Oman', 'Pakistan', 'Palau', 'Panama', 'Papua New Guinea',\n",
       "       'Paraguay', 'Peru', 'Philippines', 'Poland', 'Portugal', 'Qatar',\n",
       "       'Romania', 'Russia', 'Rwanda', 'Samoa', 'San Marino',\n",
       "       'Sao Tome and Principe', 'Saudi Arabia', 'Senegal', 'Serbia',\n",
       "       'Seychelles', 'Sierra Leone', 'Singapore', 'Slovakia', 'Slovenia',\n",
       "       'Solomon Islands', 'Somalia', 'South Africa', 'South Sudan',\n",
       "       'Spain', 'Sri Lanka', 'St. Kitts and Nevis', 'St. Lucia',\n",
       "       'St. Vincent and the Grenadines', 'Sudan', 'Suriname', 'Sweden',\n",
       "       'Switzerland', 'Syria', 'Tajikistan', 'Tanzania', 'Thailand',\n",
       "       'Timor-Leste', 'Togo', 'Tonga', 'Trinidad and Tobago', 'Tunisia',\n",
       "       'Turkey', 'Turkmenistan', 'Tuvalu', 'Uganda', 'Ukraine',\n",
       "       'United Arab Emirates', 'United Kingdom', 'United States',\n",
       "       'Uruguay', 'Uzbekistan', 'Vanuatu', 'Venezuela', 'Vietnam',\n",
       "       'Yemen', 'Zambia', 'Zimbabwe'], dtype=object)"
      ]
     },
     "execution_count": 52,
     "metadata": {},
     "output_type": "execute_result"
    }
   ],
   "source": [
    "np.sort(drugs_disorders_data['country'].unique())"
   ]
  },
  {
   "cell_type": "code",
   "execution_count": 39,
   "id": "3019911f-f507-4442-aad0-f06a8d837172",
   "metadata": {},
   "outputs": [],
   "source": [
    "different_spelled_healthcare_countries = {\n",
    "    'Bosnia And Herzegovina': 'Bosnia and Herzegovina',\n",
    "    'Cote dIvoire': 'Côte d\\'Ivoire',\n",
    "    'Democratic Republic of the Congo': 'Congo, Dem. Rep.',\n",
    "    'South Korea': 'Korea, Rep.'\n",
    "}"
   ]
  },
  {
   "cell_type": "code",
   "execution_count": 40,
   "id": "67d6a3f6-d26e-43e4-89fd-440628c25623",
   "metadata": {},
   "outputs": [
    {
     "name": "stderr",
     "output_type": "stream",
     "text": [
      "D:\\SoftUni\\Data Science\\ProjectV2\\src\\functions.py:22: FutureWarning: A value is trying to be set on a copy of a DataFrame or Series through chained assignment using an inplace method.\n",
      "The behavior will change in pandas 3.0. This inplace method will never work because the intermediate object on which we are setting values always behaves as a copy.\n",
      "\n",
      "For example, when doing 'df[col].method(value, inplace=True)', try using 'df.method({col: value}, inplace=True)' or df[col] = df[col].method(value) instead, to perform the operation inplace on the original object.\n",
      "\n",
      "\n",
      "  df[col].replace(df[df[col] == key][col].values[0], value, inplace = True)\n"
     ]
    }
   ],
   "source": [
    "functions.rplace_col_values(dict = different_spelled_healthcare_countries, df = healthcare_data, col = 'country')"
   ]
  },
  {
   "cell_type": "code",
   "execution_count": 41,
   "id": "b7898c5a-3462-4275-bc1d-a5592a8061ac",
   "metadata": {},
   "outputs": [
    {
     "data": {
      "text/plain": [
       "array(['Albania', 'Algeria', 'Angola', 'Argentina', 'Australia',\n",
       "       'Austria', 'Azerbaijan', 'Bahrain', 'Bangladesh', 'Belarus',\n",
       "       'Belgium', 'Bolivia', 'Bosnia and Herzegovina', 'Brazil',\n",
       "       'Bulgaria', 'Cameroon', 'Canada', 'Chile', 'China', 'Colombia',\n",
       "       'Congo, Dem. Rep.', 'Costa Rica', 'Croatia', 'Cyprus',\n",
       "       'Czech Republic', \"Côte d'Ivoire\", 'Denmark', 'Dominican Republic',\n",
       "       'Ecuador', 'Egypt', 'El Salvador', 'Estonia', 'Finland', 'France',\n",
       "       'Georgia', 'Germany', 'Ghana', 'Greece', 'Guatemala', 'Honduras',\n",
       "       'Hong Kong', 'Hungary', 'Iceland', 'India', 'Indonesia', 'Iran',\n",
       "       'Iraq', 'Ireland', 'Israel', 'Italy', 'Japan', 'Jordan',\n",
       "       'Kazakhstan', 'Kenya', 'Korea, Rep.', 'Kuwait', 'Latvia',\n",
       "       'Lebanon', 'Libya', 'Lithuania', 'Luxembourg', 'Malaysia',\n",
       "       'Mexico', 'Morocco', 'Myanmar', 'Nepal', 'Netherlands',\n",
       "       'New Zealand', 'Nigeria', 'North Macedonia', 'Norway', 'Oman',\n",
       "       'Pakistan', 'Panama', 'Paraguay', 'Peru', 'Philippines', 'Poland',\n",
       "       'Portugal', 'Puerto Rico', 'Qatar', 'Romania', 'Russia',\n",
       "       'Saudi Arabia', 'Serbia', 'Singapore', 'Slovakia', 'Slovenia',\n",
       "       'South Africa', 'Spain', 'Sri Lanka', 'Sudan', 'Sweden',\n",
       "       'Switzerland', 'Taiwan', 'Tanzania', 'Thailand', 'Tunisia',\n",
       "       'Turkey', 'Turkmenistan', 'Uganda', 'Ukraine',\n",
       "       'United Arab Emirates', 'United Kingdom', 'United States',\n",
       "       'Uruguay', 'Uzbekistan', 'Venezuela', 'Vietnam'], dtype=object)"
      ]
     },
     "execution_count": 41,
     "metadata": {},
     "output_type": "execute_result"
    }
   ],
   "source": [
    "np.sort(healthcare_data['country'].unique())"
   ]
  },
  {
   "cell_type": "code",
   "execution_count": 56,
   "id": "7393e151-7fd7-4c04-bcfa-7b6be48d1b69",
   "metadata": {},
   "outputs": [],
   "source": [
    "# Countries in durgs_disorders dataset which are not ranked by healthcare index\n",
    "missing_countries_in_healthcare = np.setdiff1d(drugs_disorders_data['country'].unique(), healthcare_data['country'].unique())"
   ]
  },
  {
   "cell_type": "markdown",
   "id": "9ecd2f00-5c0e-474f-acb3-0e2371eaf562",
   "metadata": {},
   "source": [
    "Most of these are island countries, countries with small population and/or least developed or developing countries in Asia and Africa. Their GDP is low, below mode value. [[1]]\n",
    "Based on low GDP it is very probable these countries to have low level of healthcare systems. I will add the missing countries into the healthcare dataset with a value of 25 percentile of healthcare index."
   ]
  },
  {
   "cell_type": "code",
   "execution_count": 44,
   "id": "7f39d6c0-bb1f-479e-bd35-a0db43505b85",
   "metadata": {},
   "outputs": [
    {
     "data": {
      "text/html": [
       "<div>\n",
       "<style scoped>\n",
       "    .dataframe tbody tr th:only-of-type {\n",
       "        vertical-align: middle;\n",
       "    }\n",
       "\n",
       "    .dataframe tbody tr th {\n",
       "        vertical-align: top;\n",
       "    }\n",
       "\n",
       "    .dataframe thead th {\n",
       "        text-align: right;\n",
       "    }\n",
       "</style>\n",
       "<table border=\"1\" class=\"dataframe\">\n",
       "  <thead>\n",
       "    <tr style=\"text-align: right;\">\n",
       "      <th></th>\n",
       "      <th>rank</th>\n",
       "      <th>healthcare_index</th>\n",
       "    </tr>\n",
       "  </thead>\n",
       "  <tbody>\n",
       "    <tr>\n",
       "      <th>count</th>\n",
       "      <td>110.000000</td>\n",
       "      <td>110.000000</td>\n",
       "    </tr>\n",
       "    <tr>\n",
       "      <th>mean</th>\n",
       "      <td>55.500000</td>\n",
       "      <td>40.888273</td>\n",
       "    </tr>\n",
       "    <tr>\n",
       "      <th>std</th>\n",
       "      <td>31.898276</td>\n",
       "      <td>12.945831</td>\n",
       "    </tr>\n",
       "    <tr>\n",
       "      <th>min</th>\n",
       "      <td>1.000000</td>\n",
       "      <td>18.600000</td>\n",
       "    </tr>\n",
       "    <tr>\n",
       "      <th>25%</th>\n",
       "      <td>28.250000</td>\n",
       "      <td>33.062500</td>\n",
       "    </tr>\n",
       "    <tr>\n",
       "      <th>50%</th>\n",
       "      <td>55.500000</td>\n",
       "      <td>38.280000</td>\n",
       "    </tr>\n",
       "    <tr>\n",
       "      <th>75%</th>\n",
       "      <td>82.750000</td>\n",
       "      <td>46.140000</td>\n",
       "    </tr>\n",
       "    <tr>\n",
       "      <th>max</th>\n",
       "      <td>110.000000</td>\n",
       "      <td>78.720000</td>\n",
       "    </tr>\n",
       "  </tbody>\n",
       "</table>\n",
       "</div>"
      ],
      "text/plain": [
       "             rank  healthcare_index\n",
       "count  110.000000        110.000000\n",
       "mean    55.500000         40.888273\n",
       "std     31.898276         12.945831\n",
       "min      1.000000         18.600000\n",
       "25%     28.250000         33.062500\n",
       "50%     55.500000         38.280000\n",
       "75%     82.750000         46.140000\n",
       "max    110.000000         78.720000"
      ]
     },
     "execution_count": 44,
     "metadata": {},
     "output_type": "execute_result"
    }
   ],
   "source": [
    "healthcare_data.describe()"
   ]
  },
  {
   "cell_type": "code",
   "execution_count": 96,
   "id": "61b9e0d4-39d9-4e2e-8288-86b6f83162ec",
   "metadata": {},
   "outputs": [],
   "source": [
    "additional_healthcare_data = pd.DataFrame({'rank': np.arange(111, 201), 'country': missing_countries_in_healthcare, 'healthcare_index': 33.1})"
   ]
  },
  {
   "cell_type": "code",
   "execution_count": 97,
   "id": "f3f0d6a0-72a6-4234-b988-e25eb0b343e7",
   "metadata": {},
   "outputs": [
    {
     "data": {
      "text/html": [
       "<div>\n",
       "<style scoped>\n",
       "    .dataframe tbody tr th:only-of-type {\n",
       "        vertical-align: middle;\n",
       "    }\n",
       "\n",
       "    .dataframe tbody tr th {\n",
       "        vertical-align: top;\n",
       "    }\n",
       "\n",
       "    .dataframe thead th {\n",
       "        text-align: right;\n",
       "    }\n",
       "</style>\n",
       "<table border=\"1\" class=\"dataframe\">\n",
       "  <thead>\n",
       "    <tr style=\"text-align: right;\">\n",
       "      <th></th>\n",
       "      <th>rank</th>\n",
       "      <th>country</th>\n",
       "      <th>healthcare_index</th>\n",
       "    </tr>\n",
       "  </thead>\n",
       "  <tbody>\n",
       "    <tr>\n",
       "      <th>0</th>\n",
       "      <td>111</td>\n",
       "      <td>Afghanistan</td>\n",
       "      <td>33.1</td>\n",
       "    </tr>\n",
       "    <tr>\n",
       "      <th>1</th>\n",
       "      <td>112</td>\n",
       "      <td>Andorra</td>\n",
       "      <td>33.1</td>\n",
       "    </tr>\n",
       "    <tr>\n",
       "      <th>2</th>\n",
       "      <td>113</td>\n",
       "      <td>Antigua and Barbuda</td>\n",
       "      <td>33.1</td>\n",
       "    </tr>\n",
       "    <tr>\n",
       "      <th>3</th>\n",
       "      <td>114</td>\n",
       "      <td>Armenia</td>\n",
       "      <td>33.1</td>\n",
       "    </tr>\n",
       "    <tr>\n",
       "      <th>4</th>\n",
       "      <td>115</td>\n",
       "      <td>Bahamas</td>\n",
       "      <td>33.1</td>\n",
       "    </tr>\n",
       "    <tr>\n",
       "      <th>...</th>\n",
       "      <td>...</td>\n",
       "      <td>...</td>\n",
       "      <td>...</td>\n",
       "    </tr>\n",
       "    <tr>\n",
       "      <th>85</th>\n",
       "      <td>196</td>\n",
       "      <td>Tuvalu</td>\n",
       "      <td>33.1</td>\n",
       "    </tr>\n",
       "    <tr>\n",
       "      <th>86</th>\n",
       "      <td>197</td>\n",
       "      <td>Vanuatu</td>\n",
       "      <td>33.1</td>\n",
       "    </tr>\n",
       "    <tr>\n",
       "      <th>87</th>\n",
       "      <td>198</td>\n",
       "      <td>Yemen</td>\n",
       "      <td>33.1</td>\n",
       "    </tr>\n",
       "    <tr>\n",
       "      <th>88</th>\n",
       "      <td>199</td>\n",
       "      <td>Zambia</td>\n",
       "      <td>33.1</td>\n",
       "    </tr>\n",
       "    <tr>\n",
       "      <th>89</th>\n",
       "      <td>200</td>\n",
       "      <td>Zimbabwe</td>\n",
       "      <td>33.1</td>\n",
       "    </tr>\n",
       "  </tbody>\n",
       "</table>\n",
       "<p>90 rows × 3 columns</p>\n",
       "</div>"
      ],
      "text/plain": [
       "    rank              country  healthcare_index\n",
       "0    111          Afghanistan              33.1\n",
       "1    112              Andorra              33.1\n",
       "2    113  Antigua and Barbuda              33.1\n",
       "3    114              Armenia              33.1\n",
       "4    115              Bahamas              33.1\n",
       "..   ...                  ...               ...\n",
       "85   196               Tuvalu              33.1\n",
       "86   197              Vanuatu              33.1\n",
       "87   198                Yemen              33.1\n",
       "88   199               Zambia              33.1\n",
       "89   200             Zimbabwe              33.1\n",
       "\n",
       "[90 rows x 3 columns]"
      ]
     },
     "execution_count": 97,
     "metadata": {},
     "output_type": "execute_result"
    }
   ],
   "source": [
    "additional_healthcare_data"
   ]
  },
  {
   "cell_type": "code",
   "execution_count": 98,
   "id": "58d656af-4626-4a44-ace8-d4a598ec2e55",
   "metadata": {},
   "outputs": [],
   "source": [
    "healthcare_data_full = pd.concat([healthcare_data, additional_healthcare_data], ignore_index=True)"
   ]
  },
  {
   "cell_type": "code",
   "execution_count": 100,
   "id": "91a37ccf-a80d-461d-8e3c-1f9f8f7b002c",
   "metadata": {},
   "outputs": [
    {
     "data": {
      "text/html": [
       "<div>\n",
       "<style scoped>\n",
       "    .dataframe tbody tr th:only-of-type {\n",
       "        vertical-align: middle;\n",
       "    }\n",
       "\n",
       "    .dataframe tbody tr th {\n",
       "        vertical-align: top;\n",
       "    }\n",
       "\n",
       "    .dataframe thead th {\n",
       "        text-align: right;\n",
       "    }\n",
       "</style>\n",
       "<table border=\"1\" class=\"dataframe\">\n",
       "  <thead>\n",
       "    <tr style=\"text-align: right;\">\n",
       "      <th></th>\n",
       "      <th>rank</th>\n",
       "      <th>healthcare_index</th>\n",
       "    </tr>\n",
       "  </thead>\n",
       "  <tbody>\n",
       "    <tr>\n",
       "      <th>count</th>\n",
       "      <td>200.000000</td>\n",
       "      <td>200.000000</td>\n",
       "    </tr>\n",
       "    <tr>\n",
       "      <th>mean</th>\n",
       "      <td>100.500000</td>\n",
       "      <td>37.383550</td>\n",
       "    </tr>\n",
       "    <tr>\n",
       "      <th>std</th>\n",
       "      <td>57.879185</td>\n",
       "      <td>10.338574</td>\n",
       "    </tr>\n",
       "    <tr>\n",
       "      <th>min</th>\n",
       "      <td>1.000000</td>\n",
       "      <td>18.600000</td>\n",
       "    </tr>\n",
       "    <tr>\n",
       "      <th>25%</th>\n",
       "      <td>50.750000</td>\n",
       "      <td>33.100000</td>\n",
       "    </tr>\n",
       "    <tr>\n",
       "      <th>50%</th>\n",
       "      <td>100.500000</td>\n",
       "      <td>33.100000</td>\n",
       "    </tr>\n",
       "    <tr>\n",
       "      <th>75%</th>\n",
       "      <td>150.250000</td>\n",
       "      <td>39.022500</td>\n",
       "    </tr>\n",
       "    <tr>\n",
       "      <th>max</th>\n",
       "      <td>200.000000</td>\n",
       "      <td>78.720000</td>\n",
       "    </tr>\n",
       "  </tbody>\n",
       "</table>\n",
       "</div>"
      ],
      "text/plain": [
       "             rank  healthcare_index\n",
       "count  200.000000        200.000000\n",
       "mean   100.500000         37.383550\n",
       "std     57.879185         10.338574\n",
       "min      1.000000         18.600000\n",
       "25%     50.750000         33.100000\n",
       "50%    100.500000         33.100000\n",
       "75%    150.250000         39.022500\n",
       "max    200.000000         78.720000"
      ]
     },
     "execution_count": 100,
     "metadata": {},
     "output_type": "execute_result"
    }
   ],
   "source": [
    "healthcare_data_full.describe()"
   ]
  },
  {
   "cell_type": "code",
   "execution_count": 101,
   "id": "3a834059-fbe3-4936-a87d-9733ad5ff328",
   "metadata": {},
   "outputs": [],
   "source": [
    "healthcare_data_full.to_csv('data/preprocessed_datasets/healthcare_index_by_country.csv', index = False)"
   ]
  },
  {
   "cell_type": "markdown",
   "id": "5d5869cb-db7e-4054-8fb4-ab4991b72371",
   "metadata": {},
   "source": [
    "### References\n",
    "1. [List of countries by GDP - Wikipedia](https://en.wikipedia.org/wiki/List_of_countries_by_GDP_(nominal))"
   ]
  },
  {
   "cell_type": "markdown",
   "id": "b4af406b-2297-4029-b1a1-c7010f43b17c",
   "metadata": {},
   "source": [
    "<a id='references'></a>"
   ]
  },
  {
   "cell_type": "code",
   "execution_count": null,
   "id": "ba3bf0e5-dac4-41af-97fb-2b047a45baeb",
   "metadata": {},
   "outputs": [],
   "source": []
  }
 ],
 "metadata": {
  "kernelspec": {
   "display_name": "Python 3 (ipykernel)",
   "language": "python",
   "name": "python3"
  },
  "language_info": {
   "codemirror_mode": {
    "name": "ipython",
    "version": 3
   },
   "file_extension": ".py",
   "mimetype": "text/x-python",
   "name": "python",
   "nbconvert_exporter": "python",
   "pygments_lexer": "ipython3",
   "version": "3.11.9"
  }
 },
 "nbformat": 4,
 "nbformat_minor": 5
}
