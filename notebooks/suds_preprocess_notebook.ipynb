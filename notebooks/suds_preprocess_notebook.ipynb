{
 "cells": [
  {
   "cell_type": "code",
   "execution_count": 1,
   "id": "c914f523-a543-4aca-bc3c-01d427a55af4",
   "metadata": {},
   "outputs": [
    {
     "name": "stdout",
     "output_type": "stream",
     "text": [
      "D:\\SoftUni\\Data Science\\ProjectV2\n"
     ]
    }
   ],
   "source": [
    "%cd .."
   ]
  },
  {
   "cell_type": "markdown",
   "id": "7c703398-ef0f-4866-9e82-ab58ea2990e9",
   "metadata": {},
   "source": [
    "### Imports"
   ]
  },
  {
   "cell_type": "code",
   "execution_count": 2,
   "id": "87175874-ea9d-47d5-90b0-9fe531a29f6a",
   "metadata": {},
   "outputs": [],
   "source": [
    "import pandas as pd\n",
    "\n",
    "import numpy as np\n",
    "\n",
    "from src import functions\n",
    "\n",
    "from functools import reduce"
   ]
  },
  {
   "cell_type": "markdown",
   "id": "387efb40-6602-4d74-aa96-b1354173727e",
   "metadata": {},
   "source": [
    "### Metadata"
   ]
  },
  {
   "cell_type": "markdown",
   "id": "4dcb374f-a7c4-4b34-82d8-e6c5c431f361",
   "metadata": {},
   "source": [
    "The data about the rates of different mental illnesses includes information about Schizophrenia, Anxiety, Attention Deficit / Hyperactivity, Bipolar and Depressive disorders. It is age - standardized which means that it takes into account the differences in the age structure of each country. [[1]](#references) The rates are provided in the 'Value' column and are measured in prevalent cases per 100 000 people. Thus the values ​​of different countries could be compared unbiased.\n",
    "\n",
    "The data is saved in five separate datasets, each with 204 observations of 9 features.\n",
    "\n",
    "The source of data is https://www.healthdata.org/research-analysis/health-risks-issues/mental-health."
   ]
  },
  {
   "cell_type": "markdown",
   "id": "a830abee-389d-4c4f-8f6b-45b684a0c7bd",
   "metadata": {},
   "source": [
    "### Loading data"
   ]
  },
  {
   "cell_type": "code",
   "execution_count": 28,
   "id": "c16bc2eb-6d6c-49ec-a7d3-369485707f0c",
   "metadata": {},
   "outputs": [],
   "source": [
    "amphetamine_use_disorders_data = pd.read_csv('data/suds_source_datasets/amphetamine_use_disorders.csv')"
   ]
  },
  {
   "cell_type": "code",
   "execution_count": 29,
   "id": "4aaf4727-94bf-4dfc-bed5-302d35d1f775",
   "metadata": {},
   "outputs": [
    {
     "data": {
      "text/html": [
       "<div>\n",
       "<style scoped>\n",
       "    .dataframe tbody tr th:only-of-type {\n",
       "        vertical-align: middle;\n",
       "    }\n",
       "\n",
       "    .dataframe tbody tr th {\n",
       "        vertical-align: top;\n",
       "    }\n",
       "\n",
       "    .dataframe thead th {\n",
       "        text-align: right;\n",
       "    }\n",
       "</style>\n",
       "<table border=\"1\" class=\"dataframe\">\n",
       "  <thead>\n",
       "    <tr style=\"text-align: right;\">\n",
       "      <th></th>\n",
       "      <th>Location</th>\n",
       "      <th>Year</th>\n",
       "      <th>Age</th>\n",
       "      <th>Sex</th>\n",
       "      <th>Cause of death or injury</th>\n",
       "      <th>Measure</th>\n",
       "      <th>Value</th>\n",
       "      <th>Lower bound</th>\n",
       "      <th>Upper bound</th>\n",
       "    </tr>\n",
       "  </thead>\n",
       "  <tbody>\n",
       "    <tr>\n",
       "      <th>0</th>\n",
       "      <td>Afghanistan</td>\n",
       "      <td>2021.0</td>\n",
       "      <td>Age-standardized</td>\n",
       "      <td>Both</td>\n",
       "      <td>Amphetamine use disorders</td>\n",
       "      <td>Prevalent cases per 100,000</td>\n",
       "      <td>31.959143</td>\n",
       "      <td>21.495979</td>\n",
       "      <td>44.618085</td>\n",
       "    </tr>\n",
       "    <tr>\n",
       "      <th>1</th>\n",
       "      <td>Angola</td>\n",
       "      <td>2021.0</td>\n",
       "      <td>Age-standardized</td>\n",
       "      <td>Both</td>\n",
       "      <td>Amphetamine use disorders</td>\n",
       "      <td>Prevalent cases per 100,000</td>\n",
       "      <td>38.395224</td>\n",
       "      <td>26.234020</td>\n",
       "      <td>53.864415</td>\n",
       "    </tr>\n",
       "  </tbody>\n",
       "</table>\n",
       "</div>"
      ],
      "text/plain": [
       "      Location    Year               Age   Sex   Cause of death or injury  \\\n",
       "0  Afghanistan  2021.0  Age-standardized  Both  Amphetamine use disorders   \n",
       "1       Angola  2021.0  Age-standardized  Both  Amphetamine use disorders   \n",
       "\n",
       "                       Measure      Value  Lower bound  Upper bound  \n",
       "0  Prevalent cases per 100,000  31.959143    21.495979    44.618085  \n",
       "1  Prevalent cases per 100,000  38.395224    26.234020    53.864415  "
      ]
     },
     "execution_count": 29,
     "metadata": {},
     "output_type": "execute_result"
    }
   ],
   "source": [
    "amphetamine_use_disorders_data.head(2)"
   ]
  },
  {
   "cell_type": "code",
   "execution_count": 5,
   "id": "7b7bae59-234e-4e5e-96cf-772511aa7f4a",
   "metadata": {},
   "outputs": [
    {
     "name": "stdout",
     "output_type": "stream",
     "text": [
      "<class 'pandas.core.frame.DataFrame'>\n",
      "RangeIndex: 206 entries, 0 to 205\n",
      "Data columns (total 9 columns):\n",
      " #   Column                    Non-Null Count  Dtype  \n",
      "---  ------                    --------------  -----  \n",
      " 0   Location                  206 non-null    object \n",
      " 1   Year                      204 non-null    float64\n",
      " 2   Age                       204 non-null    object \n",
      " 3   Sex                       204 non-null    object \n",
      " 4   Cause of death or injury  204 non-null    object \n",
      " 5   Measure                   204 non-null    object \n",
      " 6   Value                     204 non-null    float64\n",
      " 7   Lower bound               204 non-null    float64\n",
      " 8   Upper bound               204 non-null    float64\n",
      "dtypes: float64(4), object(5)\n",
      "memory usage: 14.6+ KB\n"
     ]
    }
   ],
   "source": [
    "amphetamine_use_disorders_data.info()"
   ]
  },
  {
   "cell_type": "code",
   "execution_count": 6,
   "id": "8de33246-abe6-4af0-aabf-72b143662a64",
   "metadata": {},
   "outputs": [
    {
     "data": {
      "text/html": [
       "<div>\n",
       "<style scoped>\n",
       "    .dataframe tbody tr th:only-of-type {\n",
       "        vertical-align: middle;\n",
       "    }\n",
       "\n",
       "    .dataframe tbody tr th {\n",
       "        vertical-align: top;\n",
       "    }\n",
       "\n",
       "    .dataframe thead th {\n",
       "        text-align: right;\n",
       "    }\n",
       "</style>\n",
       "<table border=\"1\" class=\"dataframe\">\n",
       "  <thead>\n",
       "    <tr style=\"text-align: right;\">\n",
       "      <th></th>\n",
       "      <th>Location</th>\n",
       "      <th>Year</th>\n",
       "      <th>Age</th>\n",
       "      <th>Sex</th>\n",
       "      <th>Cause of death or injury</th>\n",
       "      <th>Measure</th>\n",
       "      <th>Value</th>\n",
       "      <th>Lower bound</th>\n",
       "      <th>Upper bound</th>\n",
       "    </tr>\n",
       "  </thead>\n",
       "  <tbody>\n",
       "    <tr>\n",
       "      <th>0</th>\n",
       "      <td>Afghanistan</td>\n",
       "      <td>2021.0</td>\n",
       "      <td>Age-standardized</td>\n",
       "      <td>Both</td>\n",
       "      <td>Cannabis use disorders</td>\n",
       "      <td>Prevalent cases per 100,000</td>\n",
       "      <td>129.592702</td>\n",
       "      <td>87.148175</td>\n",
       "      <td>189.891116</td>\n",
       "    </tr>\n",
       "    <tr>\n",
       "      <th>1</th>\n",
       "      <td>Angola</td>\n",
       "      <td>2021.0</td>\n",
       "      <td>Age-standardized</td>\n",
       "      <td>Both</td>\n",
       "      <td>Cannabis use disorders</td>\n",
       "      <td>Prevalent cases per 100,000</td>\n",
       "      <td>177.467520</td>\n",
       "      <td>121.765687</td>\n",
       "      <td>262.167628</td>\n",
       "    </tr>\n",
       "  </tbody>\n",
       "</table>\n",
       "</div>"
      ],
      "text/plain": [
       "      Location    Year               Age   Sex Cause of death or injury  \\\n",
       "0  Afghanistan  2021.0  Age-standardized  Both   Cannabis use disorders   \n",
       "1       Angola  2021.0  Age-standardized  Both   Cannabis use disorders   \n",
       "\n",
       "                       Measure       Value  Lower bound  Upper bound  \n",
       "0  Prevalent cases per 100,000  129.592702    87.148175   189.891116  \n",
       "1  Prevalent cases per 100,000  177.467520   121.765687   262.167628  "
      ]
     },
     "execution_count": 6,
     "metadata": {},
     "output_type": "execute_result"
    }
   ],
   "source": [
    "cannabis_use_disorders_data = pd.read_csv('data/suds_source_datasets/cannabis_use_disorders.csv')\n",
    "cannabis_use_disorders_data.head(2)"
   ]
  },
  {
   "cell_type": "code",
   "execution_count": 7,
   "id": "6651d209-7efb-4990-91ed-f27f3541f765",
   "metadata": {},
   "outputs": [
    {
     "name": "stdout",
     "output_type": "stream",
     "text": [
      "<class 'pandas.core.frame.DataFrame'>\n",
      "RangeIndex: 206 entries, 0 to 205\n",
      "Data columns (total 9 columns):\n",
      " #   Column                    Non-Null Count  Dtype  \n",
      "---  ------                    --------------  -----  \n",
      " 0   Location                  206 non-null    object \n",
      " 1   Year                      204 non-null    float64\n",
      " 2   Age                       204 non-null    object \n",
      " 3   Sex                       204 non-null    object \n",
      " 4   Cause of death or injury  204 non-null    object \n",
      " 5   Measure                   204 non-null    object \n",
      " 6   Value                     204 non-null    float64\n",
      " 7   Lower bound               204 non-null    float64\n",
      " 8   Upper bound               204 non-null    float64\n",
      "dtypes: float64(4), object(5)\n",
      "memory usage: 14.6+ KB\n"
     ]
    }
   ],
   "source": [
    "cannabis_use_disorders_data.info()"
   ]
  },
  {
   "cell_type": "code",
   "execution_count": 8,
   "id": "cf4b4356-b677-4cf0-91c1-c87ac35e8879",
   "metadata": {},
   "outputs": [],
   "source": [
    "cocaine_use_disorders_data = pd.read_csv('data/suds_source_datasets/cocaine_use_disorders.csv')"
   ]
  },
  {
   "cell_type": "code",
   "execution_count": 9,
   "id": "143122aa-f6c0-435d-afdc-1ab5bab5cd87",
   "metadata": {},
   "outputs": [
    {
     "data": {
      "text/html": [
       "<div>\n",
       "<style scoped>\n",
       "    .dataframe tbody tr th:only-of-type {\n",
       "        vertical-align: middle;\n",
       "    }\n",
       "\n",
       "    .dataframe tbody tr th {\n",
       "        vertical-align: top;\n",
       "    }\n",
       "\n",
       "    .dataframe thead th {\n",
       "        text-align: right;\n",
       "    }\n",
       "</style>\n",
       "<table border=\"1\" class=\"dataframe\">\n",
       "  <thead>\n",
       "    <tr style=\"text-align: right;\">\n",
       "      <th></th>\n",
       "      <th>Location</th>\n",
       "      <th>Year</th>\n",
       "      <th>Age</th>\n",
       "      <th>Sex</th>\n",
       "      <th>Cause of death or injury</th>\n",
       "      <th>Measure</th>\n",
       "      <th>Value</th>\n",
       "      <th>Lower bound</th>\n",
       "      <th>Upper bound</th>\n",
       "    </tr>\n",
       "  </thead>\n",
       "  <tbody>\n",
       "    <tr>\n",
       "      <th>0</th>\n",
       "      <td>Afghanistan</td>\n",
       "      <td>2021.0</td>\n",
       "      <td>Age-standardized</td>\n",
       "      <td>Both</td>\n",
       "      <td>Cocaine use disorders</td>\n",
       "      <td>Prevalent cases per 100,000</td>\n",
       "      <td>13.949386</td>\n",
       "      <td>9.618930</td>\n",
       "      <td>19.190581</td>\n",
       "    </tr>\n",
       "    <tr>\n",
       "      <th>1</th>\n",
       "      <td>Angola</td>\n",
       "      <td>2021.0</td>\n",
       "      <td>Age-standardized</td>\n",
       "      <td>Both</td>\n",
       "      <td>Cocaine use disorders</td>\n",
       "      <td>Prevalent cases per 100,000</td>\n",
       "      <td>8.157492</td>\n",
       "      <td>6.023403</td>\n",
       "      <td>10.683326</td>\n",
       "    </tr>\n",
       "  </tbody>\n",
       "</table>\n",
       "</div>"
      ],
      "text/plain": [
       "      Location    Year               Age   Sex Cause of death or injury  \\\n",
       "0  Afghanistan  2021.0  Age-standardized  Both    Cocaine use disorders   \n",
       "1       Angola  2021.0  Age-standardized  Both    Cocaine use disorders   \n",
       "\n",
       "                       Measure      Value  Lower bound  Upper bound  \n",
       "0  Prevalent cases per 100,000  13.949386     9.618930    19.190581  \n",
       "1  Prevalent cases per 100,000   8.157492     6.023403    10.683326  "
      ]
     },
     "execution_count": 9,
     "metadata": {},
     "output_type": "execute_result"
    }
   ],
   "source": [
    "cocaine_use_disorders_data.head(2)"
   ]
  },
  {
   "cell_type": "code",
   "execution_count": 10,
   "id": "aaee4707-ffce-43cf-8793-fc50aef79242",
   "metadata": {},
   "outputs": [
    {
     "name": "stdout",
     "output_type": "stream",
     "text": [
      "<class 'pandas.core.frame.DataFrame'>\n",
      "RangeIndex: 206 entries, 0 to 205\n",
      "Data columns (total 9 columns):\n",
      " #   Column                    Non-Null Count  Dtype  \n",
      "---  ------                    --------------  -----  \n",
      " 0   Location                  206 non-null    object \n",
      " 1   Year                      204 non-null    float64\n",
      " 2   Age                       204 non-null    object \n",
      " 3   Sex                       204 non-null    object \n",
      " 4   Cause of death or injury  204 non-null    object \n",
      " 5   Measure                   204 non-null    object \n",
      " 6   Value                     204 non-null    float64\n",
      " 7   Lower bound               204 non-null    float64\n",
      " 8   Upper bound               204 non-null    float64\n",
      "dtypes: float64(4), object(5)\n",
      "memory usage: 14.6+ KB\n"
     ]
    }
   ],
   "source": [
    "cocaine_use_disorders_data.info()"
   ]
  },
  {
   "cell_type": "code",
   "execution_count": 11,
   "id": "e84d1fb5-1477-4a42-8f87-1bae5a96b54b",
   "metadata": {},
   "outputs": [],
   "source": [
    "opioid_use_disorders_data = pd.read_csv('data/suds_source_datasets/opioid_use_disorders.csv')"
   ]
  },
  {
   "cell_type": "code",
   "execution_count": 12,
   "id": "2ab0408c-048b-4339-b6f8-9cd232328e42",
   "metadata": {},
   "outputs": [
    {
     "data": {
      "text/html": [
       "<div>\n",
       "<style scoped>\n",
       "    .dataframe tbody tr th:only-of-type {\n",
       "        vertical-align: middle;\n",
       "    }\n",
       "\n",
       "    .dataframe tbody tr th {\n",
       "        vertical-align: top;\n",
       "    }\n",
       "\n",
       "    .dataframe thead th {\n",
       "        text-align: right;\n",
       "    }\n",
       "</style>\n",
       "<table border=\"1\" class=\"dataframe\">\n",
       "  <thead>\n",
       "    <tr style=\"text-align: right;\">\n",
       "      <th></th>\n",
       "      <th>Location</th>\n",
       "      <th>Year</th>\n",
       "      <th>Age</th>\n",
       "      <th>Sex</th>\n",
       "      <th>Cause of death or injury</th>\n",
       "      <th>Measure</th>\n",
       "      <th>Value</th>\n",
       "      <th>Lower bound</th>\n",
       "      <th>Upper bound</th>\n",
       "    </tr>\n",
       "  </thead>\n",
       "  <tbody>\n",
       "    <tr>\n",
       "      <th>0</th>\n",
       "      <td>Afghanistan</td>\n",
       "      <td>2021.0</td>\n",
       "      <td>Age-standardized</td>\n",
       "      <td>Both</td>\n",
       "      <td>Opioid use disorders</td>\n",
       "      <td>Prevalent cases per 100,000</td>\n",
       "      <td>248.667360</td>\n",
       "      <td>213.530375</td>\n",
       "      <td>285.921175</td>\n",
       "    </tr>\n",
       "    <tr>\n",
       "      <th>1</th>\n",
       "      <td>Angola</td>\n",
       "      <td>2021.0</td>\n",
       "      <td>Age-standardized</td>\n",
       "      <td>Both</td>\n",
       "      <td>Opioid use disorders</td>\n",
       "      <td>Prevalent cases per 100,000</td>\n",
       "      <td>72.370541</td>\n",
       "      <td>59.067434</td>\n",
       "      <td>87.497248</td>\n",
       "    </tr>\n",
       "  </tbody>\n",
       "</table>\n",
       "</div>"
      ],
      "text/plain": [
       "      Location    Year               Age   Sex Cause of death or injury  \\\n",
       "0  Afghanistan  2021.0  Age-standardized  Both     Opioid use disorders   \n",
       "1       Angola  2021.0  Age-standardized  Both     Opioid use disorders   \n",
       "\n",
       "                       Measure       Value  Lower bound  Upper bound  \n",
       "0  Prevalent cases per 100,000  248.667360   213.530375   285.921175  \n",
       "1  Prevalent cases per 100,000   72.370541    59.067434    87.497248  "
      ]
     },
     "execution_count": 12,
     "metadata": {},
     "output_type": "execute_result"
    }
   ],
   "source": [
    "opioid_use_disorders_data.head(2)"
   ]
  },
  {
   "cell_type": "code",
   "execution_count": 13,
   "id": "90b75472-8f1f-47ed-bb72-7c51b4e32642",
   "metadata": {},
   "outputs": [
    {
     "name": "stdout",
     "output_type": "stream",
     "text": [
      "<class 'pandas.core.frame.DataFrame'>\n",
      "RangeIndex: 206 entries, 0 to 205\n",
      "Data columns (total 9 columns):\n",
      " #   Column                    Non-Null Count  Dtype  \n",
      "---  ------                    --------------  -----  \n",
      " 0   Location                  206 non-null    object \n",
      " 1   Year                      204 non-null    float64\n",
      " 2   Age                       204 non-null    object \n",
      " 3   Sex                       204 non-null    object \n",
      " 4   Cause of death or injury  204 non-null    object \n",
      " 5   Measure                   204 non-null    object \n",
      " 6   Value                     204 non-null    float64\n",
      " 7   Lower bound               204 non-null    float64\n",
      " 8   Upper bound               204 non-null    float64\n",
      "dtypes: float64(4), object(5)\n",
      "memory usage: 14.6+ KB\n"
     ]
    }
   ],
   "source": [
    "opioid_use_disorders_data.info()"
   ]
  },
  {
   "cell_type": "markdown",
   "id": "73416d2d-7b5c-48eb-8149-d7948e9d5eed",
   "metadata": {},
   "source": [
    "All datasets have the same shape - 206 rows and 9 columns. They don't contain missing values."
   ]
  },
  {
   "cell_type": "markdown",
   "id": "a50dda8c-b1a4-4004-8a88-0824ccd27213",
   "metadata": {},
   "source": [
    "### Feature selection"
   ]
  },
  {
   "cell_type": "code",
   "execution_count": 14,
   "id": "78bc0f8a-6d3f-4f65-99d4-a7b12123a88d",
   "metadata": {},
   "outputs": [
    {
     "data": {
      "text/plain": [
       "Location                    206\n",
       "Year                          1\n",
       "Age                           1\n",
       "Sex                           1\n",
       "Cause of death or injury      1\n",
       "Measure                       1\n",
       "Value                       204\n",
       "Lower bound                 204\n",
       "Upper bound                 204\n",
       "dtype: int64"
      ]
     },
     "execution_count": 14,
     "metadata": {},
     "output_type": "execute_result"
    }
   ],
   "source": [
    "opioid_use_disorders_data.nunique()"
   ]
  },
  {
   "cell_type": "markdown",
   "id": "35fbe648-a94f-4f62-9d80-d077414af8b3",
   "metadata": {},
   "source": [
    "All observations in the above datasets are age standardized for 2021. The values of Substance uce disorders are measured by a common unit - Prevalent cases per 100 000. So, each of the columns 'Year', 'Age', 'Sex', 'Cause of death and injury' and 'Measure' has a single unique value for all observations. I will drop them as they don't add any useful value. 'Lower bound' and 'Upper bound' columns also will be dropped as they are not features of interest of this project."
   ]
  },
  {
   "cell_type": "code",
   "execution_count": 15,
   "id": "ce7a5caa-1d84-4283-b945-835b5ccc454b",
   "metadata": {},
   "outputs": [],
   "source": [
    "columns_to_drop = ['Lower bound', 'Upper bound', 'Year', 'Age', 'Sex', 'Cause of death or injury', 'Measure']"
   ]
  },
  {
   "cell_type": "code",
   "execution_count": 16,
   "id": "f888b2a3-aa01-4c44-83a4-40750139ac41",
   "metadata": {},
   "outputs": [],
   "source": [
    "amphetamine_use_disorders_data.drop(columns = columns_to_drop, inplace = True)\n",
    "cannabis_use_disorders_data.drop(columns = columns_to_drop, inplace = True)\n",
    "cocaine_use_disorders_data.drop(columns = columns_to_drop, inplace = True)\n",
    "opioid_use_disorders_data.drop(columns = columns_to_drop, inplace = True)"
   ]
  },
  {
   "cell_type": "markdown",
   "id": "7328ea29-ad7f-4672-9673-2d6a72856e97",
   "metadata": {},
   "source": [
    "### Merging the data about mental disorders rates into a common dataset"
   ]
  },
  {
   "cell_type": "code",
   "execution_count": 17,
   "id": "f7b822f0-a420-4e45-841d-fddc3114af95",
   "metadata": {},
   "outputs": [],
   "source": [
    "# The 'Value' columns will be renamed for better description of the features. 'Location' column will be renamed to 'country' for consistency with the other dataset.\n",
    "amphetamine_use_disorders_data = amphetamine_use_disorders_data.rename(columns = {'Value': 'amphetamine_disorders_rate', 'Location': 'country'})\n",
    "cannabis_use_disorders_data = cannabis_use_disorders_data.rename(columns = {'Value': 'cannabis_disorders_rate', 'Location': 'country'})\n",
    "cocaine_use_disorders_data = cocaine_use_disorders_data.rename(columns = {'Value': 'cocaine_disorders_rate', 'Location': 'country'})\n",
    "opioid_use_disorders_data = opioid_use_disorders_data.rename(columns = {'Value': 'opioid_disorders_rate', 'Location': 'country'})"
   ]
  },
  {
   "cell_type": "code",
   "execution_count": 18,
   "id": "23ab63d8-cc2c-4f15-b94c-2847e31695a5",
   "metadata": {},
   "outputs": [],
   "source": [
    "suds_disorders_data = reduce(\n",
    "    lambda x, y: pd.merge(x, y, on = 'country', how = 'inner'), [\n",
    "        amphetamine_use_disorders_data, \n",
    "        cannabis_use_disorders_data, \n",
    "        cocaine_use_disorders_data, \n",
    "        opioid_use_disorders_data, \n",
    "    ]\n",
    ")"
   ]
  },
  {
   "cell_type": "markdown",
   "id": "c2a1a85b-d499-49b7-9c55-df3c100c5656",
   "metadata": {},
   "source": [
    "### Exploration and cleaning of resulted dataset"
   ]
  },
  {
   "cell_type": "code",
   "execution_count": 19,
   "id": "36137d78-df00-42e8-bc14-06753a568ad5",
   "metadata": {},
   "outputs": [
    {
     "data": {
      "text/html": [
       "<div>\n",
       "<style scoped>\n",
       "    .dataframe tbody tr th:only-of-type {\n",
       "        vertical-align: middle;\n",
       "    }\n",
       "\n",
       "    .dataframe tbody tr th {\n",
       "        vertical-align: top;\n",
       "    }\n",
       "\n",
       "    .dataframe thead th {\n",
       "        text-align: right;\n",
       "    }\n",
       "</style>\n",
       "<table border=\"1\" class=\"dataframe\">\n",
       "  <thead>\n",
       "    <tr style=\"text-align: right;\">\n",
       "      <th></th>\n",
       "      <th>country</th>\n",
       "      <th>amphetamine_disorders_rate</th>\n",
       "      <th>cannabis_disorders_rate</th>\n",
       "      <th>cocaine_disorders_rate</th>\n",
       "      <th>opioid_disorders_rate</th>\n",
       "    </tr>\n",
       "  </thead>\n",
       "  <tbody>\n",
       "    <tr>\n",
       "      <th>0</th>\n",
       "      <td>Afghanistan</td>\n",
       "      <td>31.959143</td>\n",
       "      <td>129.592702</td>\n",
       "      <td>13.949386</td>\n",
       "      <td>248.667360</td>\n",
       "    </tr>\n",
       "    <tr>\n",
       "      <th>1</th>\n",
       "      <td>Angola</td>\n",
       "      <td>38.395224</td>\n",
       "      <td>177.467520</td>\n",
       "      <td>8.157492</td>\n",
       "      <td>72.370541</td>\n",
       "    </tr>\n",
       "    <tr>\n",
       "      <th>2</th>\n",
       "      <td>Albania</td>\n",
       "      <td>130.598115</td>\n",
       "      <td>246.323973</td>\n",
       "      <td>28.224969</td>\n",
       "      <td>133.757603</td>\n",
       "    </tr>\n",
       "    <tr>\n",
       "      <th>3</th>\n",
       "      <td>Andorra</td>\n",
       "      <td>130.148605</td>\n",
       "      <td>468.433635</td>\n",
       "      <td>129.317154</td>\n",
       "      <td>111.674840</td>\n",
       "    </tr>\n",
       "    <tr>\n",
       "      <th>4</th>\n",
       "      <td>United Arab Emirates</td>\n",
       "      <td>53.148291</td>\n",
       "      <td>138.318626</td>\n",
       "      <td>17.739865</td>\n",
       "      <td>371.353942</td>\n",
       "    </tr>\n",
       "    <tr>\n",
       "      <th>...</th>\n",
       "      <td>...</td>\n",
       "      <td>...</td>\n",
       "      <td>...</td>\n",
       "      <td>...</td>\n",
       "      <td>...</td>\n",
       "    </tr>\n",
       "    <tr>\n",
       "      <th>201</th>\n",
       "      <td>Egypt</td>\n",
       "      <td>34.207386</td>\n",
       "      <td>112.056301</td>\n",
       "      <td>11.704605</td>\n",
       "      <td>199.131103</td>\n",
       "    </tr>\n",
       "    <tr>\n",
       "      <th>202</th>\n",
       "      <td>Sudan</td>\n",
       "      <td>32.240389</td>\n",
       "      <td>129.055571</td>\n",
       "      <td>13.291759</td>\n",
       "      <td>177.965073</td>\n",
       "    </tr>\n",
       "    <tr>\n",
       "      <th>203</th>\n",
       "      <td>China</td>\n",
       "      <td>267.200599</td>\n",
       "      <td>206.552144</td>\n",
       "      <td>6.152595</td>\n",
       "      <td>94.350923</td>\n",
       "    </tr>\n",
       "    <tr>\n",
       "      <th>204</th>\n",
       "      <td>Institute for Health Metrics and Evaluation (I...</td>\n",
       "      <td>NaN</td>\n",
       "      <td>NaN</td>\n",
       "      <td>NaN</td>\n",
       "      <td>NaN</td>\n",
       "    </tr>\n",
       "    <tr>\n",
       "      <th>205</th>\n",
       "      <td>For terms and conditions of use, please visit ...</td>\n",
       "      <td>NaN</td>\n",
       "      <td>NaN</td>\n",
       "      <td>NaN</td>\n",
       "      <td>NaN</td>\n",
       "    </tr>\n",
       "  </tbody>\n",
       "</table>\n",
       "<p>206 rows × 5 columns</p>\n",
       "</div>"
      ],
      "text/plain": [
       "                                               country  \\\n",
       "0                                          Afghanistan   \n",
       "1                                               Angola   \n",
       "2                                              Albania   \n",
       "3                                              Andorra   \n",
       "4                                 United Arab Emirates   \n",
       "..                                                 ...   \n",
       "201                                              Egypt   \n",
       "202                                              Sudan   \n",
       "203                                              China   \n",
       "204  Institute for Health Metrics and Evaluation (I...   \n",
       "205  For terms and conditions of use, please visit ...   \n",
       "\n",
       "     amphetamine_disorders_rate  cannabis_disorders_rate  \\\n",
       "0                     31.959143               129.592702   \n",
       "1                     38.395224               177.467520   \n",
       "2                    130.598115               246.323973   \n",
       "3                    130.148605               468.433635   \n",
       "4                     53.148291               138.318626   \n",
       "..                          ...                      ...   \n",
       "201                   34.207386               112.056301   \n",
       "202                   32.240389               129.055571   \n",
       "203                  267.200599               206.552144   \n",
       "204                         NaN                      NaN   \n",
       "205                         NaN                      NaN   \n",
       "\n",
       "     cocaine_disorders_rate  opioid_disorders_rate  \n",
       "0                 13.949386             248.667360  \n",
       "1                  8.157492              72.370541  \n",
       "2                 28.224969             133.757603  \n",
       "3                129.317154             111.674840  \n",
       "4                 17.739865             371.353942  \n",
       "..                      ...                    ...  \n",
       "201               11.704605             199.131103  \n",
       "202               13.291759             177.965073  \n",
       "203                6.152595              94.350923  \n",
       "204                     NaN                    NaN  \n",
       "205                     NaN                    NaN  \n",
       "\n",
       "[206 rows x 5 columns]"
      ]
     },
     "execution_count": 19,
     "metadata": {},
     "output_type": "execute_result"
    }
   ],
   "source": [
    "suds_disorders_data"
   ]
  },
  {
   "cell_type": "code",
   "execution_count": 20,
   "id": "8945483e-6369-4e54-aa5f-c68f2413fc59",
   "metadata": {},
   "outputs": [
    {
     "name": "stdout",
     "output_type": "stream",
     "text": [
      "<class 'pandas.core.frame.DataFrame'>\n",
      "RangeIndex: 206 entries, 0 to 205\n",
      "Data columns (total 5 columns):\n",
      " #   Column                      Non-Null Count  Dtype  \n",
      "---  ------                      --------------  -----  \n",
      " 0   country                     206 non-null    object \n",
      " 1   amphetamine_disorders_rate  204 non-null    float64\n",
      " 2   cannabis_disorders_rate     204 non-null    float64\n",
      " 3   cocaine_disorders_rate      204 non-null    float64\n",
      " 4   opioid_disorders_rate       204 non-null    float64\n",
      "dtypes: float64(4), object(1)\n",
      "memory usage: 8.2+ KB\n"
     ]
    }
   ],
   "source": [
    "suds_disorders_data.info()"
   ]
  },
  {
   "cell_type": "code",
   "execution_count": 21,
   "id": "c35f1853-f9c9-493a-af76-da3142b550ad",
   "metadata": {},
   "outputs": [
    {
     "data": {
      "text/plain": [
       "array([False])"
      ]
     },
     "execution_count": 21,
     "metadata": {},
     "output_type": "execute_result"
    }
   ],
   "source": [
    "suds_disorders_data.duplicated().unique()"
   ]
  },
  {
   "cell_type": "markdown",
   "id": "52de0d95-e867-4330-9150-9cc4489fa0b3",
   "metadata": {},
   "source": [
    "The resulted dataset has 206 rows and 6 features.\n",
    "\n",
    "There are no duplicated observations nor missing values.\n",
    "\n",
    "The last row is not observatios but contains information about data provider and terms of use. It is safe to delete it."
   ]
  },
  {
   "cell_type": "code",
   "execution_count": 22,
   "id": "e3356de6-fdc1-4ee2-8c76-59d889681c09",
   "metadata": {},
   "outputs": [],
   "source": [
    "suds_disorders_data = suds_disorders_data.iloc[:-1]"
   ]
  },
  {
   "cell_type": "code",
   "execution_count": 23,
   "id": "a37249c4-9cc6-44c5-8723-287ebacf4c8a",
   "metadata": {},
   "outputs": [
    {
     "data": {
      "text/html": [
       "<div>\n",
       "<style scoped>\n",
       "    .dataframe tbody tr th:only-of-type {\n",
       "        vertical-align: middle;\n",
       "    }\n",
       "\n",
       "    .dataframe tbody tr th {\n",
       "        vertical-align: top;\n",
       "    }\n",
       "\n",
       "    .dataframe thead th {\n",
       "        text-align: right;\n",
       "    }\n",
       "</style>\n",
       "<table border=\"1\" class=\"dataframe\">\n",
       "  <thead>\n",
       "    <tr style=\"text-align: right;\">\n",
       "      <th></th>\n",
       "      <th>country</th>\n",
       "      <th>amphetamine_disorders_rate</th>\n",
       "      <th>cannabis_disorders_rate</th>\n",
       "      <th>cocaine_disorders_rate</th>\n",
       "      <th>opioid_disorders_rate</th>\n",
       "    </tr>\n",
       "  </thead>\n",
       "  <tbody>\n",
       "    <tr>\n",
       "      <th>203</th>\n",
       "      <td>China</td>\n",
       "      <td>267.200599</td>\n",
       "      <td>206.552144</td>\n",
       "      <td>6.152595</td>\n",
       "      <td>94.350923</td>\n",
       "    </tr>\n",
       "    <tr>\n",
       "      <th>204</th>\n",
       "      <td>Institute for Health Metrics and Evaluation (I...</td>\n",
       "      <td>NaN</td>\n",
       "      <td>NaN</td>\n",
       "      <td>NaN</td>\n",
       "      <td>NaN</td>\n",
       "    </tr>\n",
       "  </tbody>\n",
       "</table>\n",
       "</div>"
      ],
      "text/plain": [
       "                                               country  \\\n",
       "203                                              China   \n",
       "204  Institute for Health Metrics and Evaluation (I...   \n",
       "\n",
       "     amphetamine_disorders_rate  cannabis_disorders_rate  \\\n",
       "203                  267.200599               206.552144   \n",
       "204                         NaN                      NaN   \n",
       "\n",
       "     cocaine_disorders_rate  opioid_disorders_rate  \n",
       "203                6.152595              94.350923  \n",
       "204                     NaN                    NaN  "
      ]
     },
     "execution_count": 23,
     "metadata": {},
     "output_type": "execute_result"
    }
   ],
   "source": [
    "suds_disorders_data.tail(2)"
   ]
  },
  {
   "cell_type": "code",
   "execution_count": 24,
   "id": "5924b1c0-8ca5-4b2e-99bb-7fd30a3e8382",
   "metadata": {},
   "outputs": [],
   "source": [
    "# The float values will be rounded for better readability.\n",
    "suds_disorders_data = suds_disorders_data.round(0)"
   ]
  },
  {
   "cell_type": "code",
   "execution_count": 25,
   "id": "7318c976-4683-4ca0-95ff-98ab5e6e4f77",
   "metadata": {},
   "outputs": [
    {
     "data": {
      "text/html": [
       "<div>\n",
       "<style scoped>\n",
       "    .dataframe tbody tr th:only-of-type {\n",
       "        vertical-align: middle;\n",
       "    }\n",
       "\n",
       "    .dataframe tbody tr th {\n",
       "        vertical-align: top;\n",
       "    }\n",
       "\n",
       "    .dataframe thead th {\n",
       "        text-align: right;\n",
       "    }\n",
       "</style>\n",
       "<table border=\"1\" class=\"dataframe\">\n",
       "  <thead>\n",
       "    <tr style=\"text-align: right;\">\n",
       "      <th></th>\n",
       "      <th>country</th>\n",
       "      <th>amphetamine_disorders_rate</th>\n",
       "      <th>cannabis_disorders_rate</th>\n",
       "      <th>cocaine_disorders_rate</th>\n",
       "      <th>opioid_disorders_rate</th>\n",
       "    </tr>\n",
       "  </thead>\n",
       "  <tbody>\n",
       "    <tr>\n",
       "      <th>0</th>\n",
       "      <td>Afghanistan</td>\n",
       "      <td>32.0</td>\n",
       "      <td>130.0</td>\n",
       "      <td>14.0</td>\n",
       "      <td>249.0</td>\n",
       "    </tr>\n",
       "    <tr>\n",
       "      <th>1</th>\n",
       "      <td>Angola</td>\n",
       "      <td>38.0</td>\n",
       "      <td>177.0</td>\n",
       "      <td>8.0</td>\n",
       "      <td>72.0</td>\n",
       "    </tr>\n",
       "    <tr>\n",
       "      <th>2</th>\n",
       "      <td>Albania</td>\n",
       "      <td>131.0</td>\n",
       "      <td>246.0</td>\n",
       "      <td>28.0</td>\n",
       "      <td>134.0</td>\n",
       "    </tr>\n",
       "  </tbody>\n",
       "</table>\n",
       "</div>"
      ],
      "text/plain": [
       "       country  amphetamine_disorders_rate  cannabis_disorders_rate  \\\n",
       "0  Afghanistan                        32.0                    130.0   \n",
       "1       Angola                        38.0                    177.0   \n",
       "2      Albania                       131.0                    246.0   \n",
       "\n",
       "   cocaine_disorders_rate  opioid_disorders_rate  \n",
       "0                    14.0                  249.0  \n",
       "1                     8.0                   72.0  \n",
       "2                    28.0                  134.0  "
      ]
     },
     "execution_count": 25,
     "metadata": {},
     "output_type": "execute_result"
    }
   ],
   "source": [
    "suds_disorders_data.head(3)"
   ]
  },
  {
   "cell_type": "code",
   "execution_count": 26,
   "id": "f15001d4-24fa-4bc7-8f30-de3ebcd414eb",
   "metadata": {},
   "outputs": [
    {
     "name": "stdout",
     "output_type": "stream",
     "text": [
      "<class 'pandas.core.frame.DataFrame'>\n",
      "RangeIndex: 205 entries, 0 to 204\n",
      "Data columns (total 5 columns):\n",
      " #   Column                      Non-Null Count  Dtype  \n",
      "---  ------                      --------------  -----  \n",
      " 0   country                     205 non-null    object \n",
      " 1   amphetamine_disorders_rate  204 non-null    float64\n",
      " 2   cannabis_disorders_rate     204 non-null    float64\n",
      " 3   cocaine_disorders_rate      204 non-null    float64\n",
      " 4   opioid_disorders_rate       204 non-null    float64\n",
      "dtypes: float64(4), object(1)\n",
      "memory usage: 8.1+ KB\n"
     ]
    }
   ],
   "source": [
    "suds_disorders_data.info()"
   ]
  },
  {
   "cell_type": "markdown",
   "id": "2f946d77-3187-44fe-9126-7aa2b1804e6c",
   "metadata": {},
   "source": [
    "The dtypes of features in resulted dataframe are appropriate so no need to transform them."
   ]
  },
  {
   "cell_type": "markdown",
   "id": "b1accd4a-9440-455c-b9eb-0845aae3472b",
   "metadata": {},
   "source": [
    "### Saving transformed data\n",
    "The resulted dataset is saved for further use in the project."
   ]
  },
  {
   "cell_type": "code",
   "execution_count": 27,
   "id": "4863647f-8a5b-4b0d-a0ba-4a1e9554e47a",
   "metadata": {},
   "outputs": [],
   "source": [
    "suds_disorders_data.to_csv('data/preprocessed_datasets/sud_disorders_by_country.csv', index = False)"
   ]
  },
  {
   "cell_type": "markdown",
   "id": "dad27934-78b0-44a6-a44c-18fca80bee53",
   "metadata": {},
   "source": [
    "<a id='references'></a>"
   ]
  },
  {
   "cell_type": "markdown",
   "id": "c7f5cd4b-2090-4f28-b286-9ec6238bb4f0",
   "metadata": {},
   "source": [
    "### References\n",
    "1. [Age standardization - ourworldindata.org](https://ourworldindata.org/age-standardization)"
   ]
  },
  {
   "cell_type": "code",
   "execution_count": null,
   "id": "1f59416e-714e-4c86-81fa-09804ff3f1bc",
   "metadata": {},
   "outputs": [],
   "source": []
  }
 ],
 "metadata": {
  "kernelspec": {
   "display_name": "Python 3 (ipykernel)",
   "language": "python",
   "name": "python3"
  },
  "language_info": {
   "codemirror_mode": {
    "name": "ipython",
    "version": 3
   },
   "file_extension": ".py",
   "mimetype": "text/x-python",
   "name": "python",
   "nbconvert_exporter": "python",
   "pygments_lexer": "ipython3",
   "version": "3.11.9"
  }
 },
 "nbformat": 4,
 "nbformat_minor": 5
}
