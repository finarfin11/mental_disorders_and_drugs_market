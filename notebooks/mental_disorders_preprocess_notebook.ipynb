{
 "cells": [
  {
   "cell_type": "code",
   "execution_count": 1,
   "id": "c914f523-a543-4aca-bc3c-01d427a55af4",
   "metadata": {},
   "outputs": [
    {
     "name": "stdout",
     "output_type": "stream",
     "text": [
      "D:\\SoftUni\\Data Science\\ProjectV2\n"
     ]
    }
   ],
   "source": [
    "%cd .."
   ]
  },
  {
   "cell_type": "markdown",
   "id": "7c703398-ef0f-4866-9e82-ab58ea2990e9",
   "metadata": {},
   "source": [
    "### Imports"
   ]
  },
  {
   "cell_type": "code",
   "execution_count": 2,
   "id": "87175874-ea9d-47d5-90b0-9fe531a29f6a",
   "metadata": {},
   "outputs": [],
   "source": [
    "import pandas as pd\n",
    "\n",
    "import numpy as np\n",
    "\n",
    "from src import functions\n",
    "\n",
    "from functools import reduce"
   ]
  },
  {
   "cell_type": "markdown",
   "id": "387efb40-6602-4d74-aa96-b1354173727e",
   "metadata": {},
   "source": [
    "### Metadata"
   ]
  },
  {
   "cell_type": "markdown",
   "id": "4dcb374f-a7c4-4b34-82d8-e6c5c431f361",
   "metadata": {},
   "source": [
    "The data about the rates of different mental illnesses includes information about Schizophrenia, Anxiety, Attention Deficit / Hyperactivity, Bipolar and Depressive disorders. It is age - standardized which means that it takes into account the differences in the age structure of each country. [[1]](#references) The rates are provided in the 'Value' column and are measured in prevalent cases per 100 000 people. Thus the values ​​of different countries could be compared unbiased.\n",
    "\n",
    "The data is saved in five separate datasets, each with 204 observations of 9 features.\n",
    "\n",
    "The source of data is https://www.healthdata.org/research-analysis/health-risks-issues/mental-health."
   ]
  },
  {
   "cell_type": "markdown",
   "id": "a830abee-389d-4c4f-8f6b-45b684a0c7bd",
   "metadata": {},
   "source": [
    "### Loading data"
   ]
  },
  {
   "cell_type": "code",
   "execution_count": 3,
   "id": "c16bc2eb-6d6c-49ec-a7d3-369485707f0c",
   "metadata": {},
   "outputs": [],
   "source": [
    "anxiety_disorders_data = pd.read_csv('data/mental_disorders_source_datasets/anxiety_disorders.csv')"
   ]
  },
  {
   "cell_type": "code",
   "execution_count": 4,
   "id": "2651e5f4-68ab-4359-b41b-ff1d25e06b95",
   "metadata": {},
   "outputs": [
    {
     "name": "stdout",
     "output_type": "stream",
     "text": [
      "<class 'pandas.core.frame.DataFrame'>\n",
      "RangeIndex: 206 entries, 0 to 205\n",
      "Data columns (total 9 columns):\n",
      " #   Column                    Non-Null Count  Dtype  \n",
      "---  ------                    --------------  -----  \n",
      " 0   Location                  206 non-null    object \n",
      " 1   Year                      204 non-null    float64\n",
      " 2   Age                       204 non-null    object \n",
      " 3   Sex                       204 non-null    object \n",
      " 4   Cause of death or injury  204 non-null    object \n",
      " 5   Measure                   204 non-null    object \n",
      " 6   Value                     204 non-null    float64\n",
      " 7   Lower bound               204 non-null    float64\n",
      " 8   Upper bound               204 non-null    float64\n",
      "dtypes: float64(4), object(5)\n",
      "memory usage: 14.6+ KB\n"
     ]
    }
   ],
   "source": [
    "anxiety_disorders_data.info()"
   ]
  },
  {
   "cell_type": "code",
   "execution_count": 5,
   "id": "8de33246-abe6-4af0-aabf-72b143662a64",
   "metadata": {},
   "outputs": [],
   "source": [
    "attention_deficit_hyperactivity_disorders_data = pd.read_csv('data/mental_disorders_source_datasets/attention_deficit_hyperactivity_disorders.csv')"
   ]
  },
  {
   "cell_type": "code",
   "execution_count": 6,
   "id": "6651d209-7efb-4990-91ed-f27f3541f765",
   "metadata": {},
   "outputs": [
    {
     "name": "stdout",
     "output_type": "stream",
     "text": [
      "<class 'pandas.core.frame.DataFrame'>\n",
      "RangeIndex: 206 entries, 0 to 205\n",
      "Data columns (total 9 columns):\n",
      " #   Column                    Non-Null Count  Dtype  \n",
      "---  ------                    --------------  -----  \n",
      " 0   Location                  206 non-null    object \n",
      " 1   Year                      204 non-null    float64\n",
      " 2   Age                       204 non-null    object \n",
      " 3   Sex                       204 non-null    object \n",
      " 4   Cause of death or injury  204 non-null    object \n",
      " 5   Measure                   204 non-null    object \n",
      " 6   Value                     204 non-null    float64\n",
      " 7   Lower bound               204 non-null    float64\n",
      " 8   Upper bound               204 non-null    float64\n",
      "dtypes: float64(4), object(5)\n",
      "memory usage: 14.6+ KB\n"
     ]
    }
   ],
   "source": [
    "attention_deficit_hyperactivity_disorders_data.info()"
   ]
  },
  {
   "cell_type": "code",
   "execution_count": 7,
   "id": "c25da707-b044-4d3b-90e2-e9bfd95fa8b2",
   "metadata": {},
   "outputs": [],
   "source": [
    "bipolar_disorders_data = pd.read_csv('data/mental_disorders_source_datasets/bipolar_disorders.csv')"
   ]
  },
  {
   "cell_type": "code",
   "execution_count": 8,
   "id": "c4b885ad-aee3-479e-96ef-0f452c33cfcf",
   "metadata": {},
   "outputs": [
    {
     "name": "stdout",
     "output_type": "stream",
     "text": [
      "<class 'pandas.core.frame.DataFrame'>\n",
      "RangeIndex: 206 entries, 0 to 205\n",
      "Data columns (total 9 columns):\n",
      " #   Column                    Non-Null Count  Dtype  \n",
      "---  ------                    --------------  -----  \n",
      " 0   Location                  206 non-null    object \n",
      " 1   Year                      204 non-null    float64\n",
      " 2   Age                       204 non-null    object \n",
      " 3   Sex                       204 non-null    object \n",
      " 4   Cause of death or injury  204 non-null    object \n",
      " 5   Measure                   204 non-null    object \n",
      " 6   Value                     204 non-null    float64\n",
      " 7   Lower bound               204 non-null    float64\n",
      " 8   Upper bound               204 non-null    float64\n",
      "dtypes: float64(4), object(5)\n",
      "memory usage: 14.6+ KB\n"
     ]
    }
   ],
   "source": [
    "bipolar_disorders_data.info()"
   ]
  },
  {
   "cell_type": "code",
   "execution_count": 9,
   "id": "cf4b4356-b677-4cf0-91c1-c87ac35e8879",
   "metadata": {},
   "outputs": [],
   "source": [
    "depressive_disorders_data = pd.read_csv('data/mental_disorders_source_datasets/depressive_disorders.csv')"
   ]
  },
  {
   "cell_type": "code",
   "execution_count": 10,
   "id": "aaee4707-ffce-43cf-8793-fc50aef79242",
   "metadata": {},
   "outputs": [
    {
     "name": "stdout",
     "output_type": "stream",
     "text": [
      "<class 'pandas.core.frame.DataFrame'>\n",
      "RangeIndex: 206 entries, 0 to 205\n",
      "Data columns (total 9 columns):\n",
      " #   Column                    Non-Null Count  Dtype  \n",
      "---  ------                    --------------  -----  \n",
      " 0   Location                  206 non-null    object \n",
      " 1   Year                      204 non-null    float64\n",
      " 2   Age                       204 non-null    object \n",
      " 3   Sex                       204 non-null    object \n",
      " 4   Cause of death or injury  204 non-null    object \n",
      " 5   Measure                   204 non-null    object \n",
      " 6   Value                     204 non-null    float64\n",
      " 7   Lower bound               204 non-null    float64\n",
      " 8   Upper bound               204 non-null    float64\n",
      "dtypes: float64(4), object(5)\n",
      "memory usage: 14.6+ KB\n"
     ]
    }
   ],
   "source": [
    "depressive_disorders_data.info()"
   ]
  },
  {
   "cell_type": "code",
   "execution_count": 12,
   "id": "999ed327-7b07-4484-b3da-cc13e62f7c90",
   "metadata": {},
   "outputs": [],
   "source": [
    "substance_use_disorders = pd.read_csv('data/mental_disorders_source_datasets/suds.csv')"
   ]
  },
  {
   "cell_type": "code",
   "execution_count": 13,
   "id": "91c45d18-be0b-4fec-bcfa-ef62596bb4c1",
   "metadata": {},
   "outputs": [
    {
     "name": "stdout",
     "output_type": "stream",
     "text": [
      "<class 'pandas.core.frame.DataFrame'>\n",
      "RangeIndex: 206 entries, 0 to 205\n",
      "Data columns (total 9 columns):\n",
      " #   Column                    Non-Null Count  Dtype  \n",
      "---  ------                    --------------  -----  \n",
      " 0   Location                  206 non-null    object \n",
      " 1   Year                      204 non-null    float64\n",
      " 2   Age                       204 non-null    object \n",
      " 3   Sex                       204 non-null    object \n",
      " 4   Cause of death or injury  204 non-null    object \n",
      " 5   Measure                   204 non-null    object \n",
      " 6   Value                     204 non-null    float64\n",
      " 7   Lower bound               204 non-null    float64\n",
      " 8   Upper bound               204 non-null    float64\n",
      "dtypes: float64(4), object(5)\n",
      "memory usage: 14.6+ KB\n"
     ]
    }
   ],
   "source": [
    "substance_use_disorders.info()"
   ]
  },
  {
   "cell_type": "code",
   "execution_count": 15,
   "id": "e84d1fb5-1477-4a42-8f87-1bae5a96b54b",
   "metadata": {},
   "outputs": [],
   "source": [
    "schizophrenia_data = pd.read_csv('data/mental_disorders_source_datasets/schizophrenia.csv')"
   ]
  },
  {
   "cell_type": "code",
   "execution_count": 16,
   "id": "90b75472-8f1f-47ed-bb72-7c51b4e32642",
   "metadata": {},
   "outputs": [
    {
     "name": "stdout",
     "output_type": "stream",
     "text": [
      "<class 'pandas.core.frame.DataFrame'>\n",
      "RangeIndex: 206 entries, 0 to 205\n",
      "Data columns (total 9 columns):\n",
      " #   Column                    Non-Null Count  Dtype  \n",
      "---  ------                    --------------  -----  \n",
      " 0   Location                  206 non-null    object \n",
      " 1   Year                      204 non-null    float64\n",
      " 2   Age                       204 non-null    object \n",
      " 3   Sex                       204 non-null    object \n",
      " 4   Cause of death or injury  204 non-null    object \n",
      " 5   Measure                   204 non-null    object \n",
      " 6   Value                     204 non-null    float64\n",
      " 7   Lower bound               204 non-null    float64\n",
      " 8   Upper bound               204 non-null    float64\n",
      "dtypes: float64(4), object(5)\n",
      "memory usage: 14.6+ KB\n"
     ]
    }
   ],
   "source": [
    "schizophrenia_data.info()"
   ]
  },
  {
   "cell_type": "code",
   "execution_count": 17,
   "id": "b59e361b-f7e7-4b7a-961b-b19e48014ad0",
   "metadata": {},
   "outputs": [
    {
     "data": {
      "text/html": [
       "<div>\n",
       "<style scoped>\n",
       "    .dataframe tbody tr th:only-of-type {\n",
       "        vertical-align: middle;\n",
       "    }\n",
       "\n",
       "    .dataframe tbody tr th {\n",
       "        vertical-align: top;\n",
       "    }\n",
       "\n",
       "    .dataframe thead th {\n",
       "        text-align: right;\n",
       "    }\n",
       "</style>\n",
       "<table border=\"1\" class=\"dataframe\">\n",
       "  <thead>\n",
       "    <tr style=\"text-align: right;\">\n",
       "      <th></th>\n",
       "      <th>Location</th>\n",
       "      <th>Year</th>\n",
       "      <th>Age</th>\n",
       "      <th>Sex</th>\n",
       "      <th>Cause of death or injury</th>\n",
       "      <th>Measure</th>\n",
       "      <th>Value</th>\n",
       "      <th>Lower bound</th>\n",
       "      <th>Upper bound</th>\n",
       "    </tr>\n",
       "  </thead>\n",
       "  <tbody>\n",
       "    <tr>\n",
       "      <th>0</th>\n",
       "      <td>Afghanistan</td>\n",
       "      <td>2021.0</td>\n",
       "      <td>Age-standardized</td>\n",
       "      <td>Both</td>\n",
       "      <td>Schizophrenia</td>\n",
       "      <td>Prevalent cases per 100,000</td>\n",
       "      <td>218.326830</td>\n",
       "      <td>168.877915</td>\n",
       "      <td>278.399258</td>\n",
       "    </tr>\n",
       "    <tr>\n",
       "      <th>1</th>\n",
       "      <td>Angola</td>\n",
       "      <td>2021.0</td>\n",
       "      <td>Age-standardized</td>\n",
       "      <td>Both</td>\n",
       "      <td>Schizophrenia</td>\n",
       "      <td>Prevalent cases per 100,000</td>\n",
       "      <td>223.959914</td>\n",
       "      <td>172.964445</td>\n",
       "      <td>283.560246</td>\n",
       "    </tr>\n",
       "    <tr>\n",
       "      <th>2</th>\n",
       "      <td>Albania</td>\n",
       "      <td>2021.0</td>\n",
       "      <td>Age-standardized</td>\n",
       "      <td>Both</td>\n",
       "      <td>Schizophrenia</td>\n",
       "      <td>Prevalent cases per 100,000</td>\n",
       "      <td>221.339258</td>\n",
       "      <td>173.404374</td>\n",
       "      <td>281.900774</td>\n",
       "    </tr>\n",
       "    <tr>\n",
       "      <th>3</th>\n",
       "      <td>Andorra</td>\n",
       "      <td>2021.0</td>\n",
       "      <td>Age-standardized</td>\n",
       "      <td>Both</td>\n",
       "      <td>Schizophrenia</td>\n",
       "      <td>Prevalent cases per 100,000</td>\n",
       "      <td>271.422686</td>\n",
       "      <td>212.911730</td>\n",
       "      <td>343.806662</td>\n",
       "    </tr>\n",
       "    <tr>\n",
       "      <th>4</th>\n",
       "      <td>United Arab Emirates</td>\n",
       "      <td>2021.0</td>\n",
       "      <td>Age-standardized</td>\n",
       "      <td>Both</td>\n",
       "      <td>Schizophrenia</td>\n",
       "      <td>Prevalent cases per 100,000</td>\n",
       "      <td>265.869204</td>\n",
       "      <td>207.024389</td>\n",
       "      <td>337.079467</td>\n",
       "    </tr>\n",
       "    <tr>\n",
       "      <th>...</th>\n",
       "      <td>...</td>\n",
       "      <td>...</td>\n",
       "      <td>...</td>\n",
       "      <td>...</td>\n",
       "      <td>...</td>\n",
       "      <td>...</td>\n",
       "      <td>...</td>\n",
       "      <td>...</td>\n",
       "      <td>...</td>\n",
       "    </tr>\n",
       "    <tr>\n",
       "      <th>201</th>\n",
       "      <td>Egypt</td>\n",
       "      <td>2021.0</td>\n",
       "      <td>Age-standardized</td>\n",
       "      <td>Both</td>\n",
       "      <td>Schizophrenia</td>\n",
       "      <td>Prevalent cases per 100,000</td>\n",
       "      <td>242.736640</td>\n",
       "      <td>187.979132</td>\n",
       "      <td>305.356991</td>\n",
       "    </tr>\n",
       "    <tr>\n",
       "      <th>202</th>\n",
       "      <td>Sudan</td>\n",
       "      <td>2021.0</td>\n",
       "      <td>Age-standardized</td>\n",
       "      <td>Both</td>\n",
       "      <td>Schizophrenia</td>\n",
       "      <td>Prevalent cases per 100,000</td>\n",
       "      <td>231.438860</td>\n",
       "      <td>179.658136</td>\n",
       "      <td>292.506693</td>\n",
       "    </tr>\n",
       "    <tr>\n",
       "      <th>203</th>\n",
       "      <td>China</td>\n",
       "      <td>2021.0</td>\n",
       "      <td>Age-standardized</td>\n",
       "      <td>Both</td>\n",
       "      <td>Schizophrenia</td>\n",
       "      <td>Prevalent cases per 100,000</td>\n",
       "      <td>312.364056</td>\n",
       "      <td>271.691880</td>\n",
       "      <td>356.386410</td>\n",
       "    </tr>\n",
       "    <tr>\n",
       "      <th>204</th>\n",
       "      <td>Institute for Health Metrics and Evaluation (I...</td>\n",
       "      <td>NaN</td>\n",
       "      <td>NaN</td>\n",
       "      <td>NaN</td>\n",
       "      <td>NaN</td>\n",
       "      <td>NaN</td>\n",
       "      <td>NaN</td>\n",
       "      <td>NaN</td>\n",
       "      <td>NaN</td>\n",
       "    </tr>\n",
       "    <tr>\n",
       "      <th>205</th>\n",
       "      <td>For terms and conditions of use, please visit ...</td>\n",
       "      <td>NaN</td>\n",
       "      <td>NaN</td>\n",
       "      <td>NaN</td>\n",
       "      <td>NaN</td>\n",
       "      <td>NaN</td>\n",
       "      <td>NaN</td>\n",
       "      <td>NaN</td>\n",
       "      <td>NaN</td>\n",
       "    </tr>\n",
       "  </tbody>\n",
       "</table>\n",
       "<p>206 rows × 9 columns</p>\n",
       "</div>"
      ],
      "text/plain": [
       "                                              Location    Year  \\\n",
       "0                                          Afghanistan  2021.0   \n",
       "1                                               Angola  2021.0   \n",
       "2                                              Albania  2021.0   \n",
       "3                                              Andorra  2021.0   \n",
       "4                                 United Arab Emirates  2021.0   \n",
       "..                                                 ...     ...   \n",
       "201                                              Egypt  2021.0   \n",
       "202                                              Sudan  2021.0   \n",
       "203                                              China  2021.0   \n",
       "204  Institute for Health Metrics and Evaluation (I...     NaN   \n",
       "205  For terms and conditions of use, please visit ...     NaN   \n",
       "\n",
       "                  Age   Sex Cause of death or injury  \\\n",
       "0    Age-standardized  Both            Schizophrenia   \n",
       "1    Age-standardized  Both            Schizophrenia   \n",
       "2    Age-standardized  Both            Schizophrenia   \n",
       "3    Age-standardized  Both            Schizophrenia   \n",
       "4    Age-standardized  Both            Schizophrenia   \n",
       "..                ...   ...                      ...   \n",
       "201  Age-standardized  Both            Schizophrenia   \n",
       "202  Age-standardized  Both            Schizophrenia   \n",
       "203  Age-standardized  Both            Schizophrenia   \n",
       "204               NaN   NaN                      NaN   \n",
       "205               NaN   NaN                      NaN   \n",
       "\n",
       "                         Measure       Value  Lower bound  Upper bound  \n",
       "0    Prevalent cases per 100,000  218.326830   168.877915   278.399258  \n",
       "1    Prevalent cases per 100,000  223.959914   172.964445   283.560246  \n",
       "2    Prevalent cases per 100,000  221.339258   173.404374   281.900774  \n",
       "3    Prevalent cases per 100,000  271.422686   212.911730   343.806662  \n",
       "4    Prevalent cases per 100,000  265.869204   207.024389   337.079467  \n",
       "..                           ...         ...          ...          ...  \n",
       "201  Prevalent cases per 100,000  242.736640   187.979132   305.356991  \n",
       "202  Prevalent cases per 100,000  231.438860   179.658136   292.506693  \n",
       "203  Prevalent cases per 100,000  312.364056   271.691880   356.386410  \n",
       "204                          NaN         NaN          NaN          NaN  \n",
       "205                          NaN         NaN          NaN          NaN  \n",
       "\n",
       "[206 rows x 9 columns]"
      ]
     },
     "execution_count": 17,
     "metadata": {},
     "output_type": "execute_result"
    }
   ],
   "source": [
    "schizophrenia_data"
   ]
  },
  {
   "cell_type": "markdown",
   "id": "73416d2d-7b5c-48eb-8149-d7948e9d5eed",
   "metadata": {},
   "source": [
    "All datasets have the same shape - 206 rows and 9 columns. They don't contain missing values."
   ]
  },
  {
   "cell_type": "markdown",
   "id": "a50dda8c-b1a4-4004-8a88-0824ccd27213",
   "metadata": {},
   "source": [
    "### Feature selection"
   ]
  },
  {
   "cell_type": "code",
   "execution_count": 18,
   "id": "78bc0f8a-6d3f-4f65-99d4-a7b12123a88d",
   "metadata": {},
   "outputs": [
    {
     "data": {
      "text/plain": [
       "Location                    206\n",
       "Year                          1\n",
       "Age                           1\n",
       "Sex                           1\n",
       "Cause of death or injury      1\n",
       "Measure                       1\n",
       "Value                       204\n",
       "Lower bound                 204\n",
       "Upper bound                 204\n",
       "dtype: int64"
      ]
     },
     "execution_count": 18,
     "metadata": {},
     "output_type": "execute_result"
    }
   ],
   "source": [
    "schizophrenia_data.nunique()"
   ]
  },
  {
   "cell_type": "markdown",
   "id": "35fbe648-a94f-4f62-9d80-d077414af8b3",
   "metadata": {},
   "source": [
    "All observations in the above datasets are age standardized for 2021. The values of mental disorders are measured by a common unit - Prevalent cases per 100 000. So, each of the columns 'Year', 'Age', 'Sex', 'Cause of death and injury' and 'Measure' has a single unique value for all observations. I will drop them as they don't add any useful value. 'Lower bound' and 'Upper bound' columns also will be dropped as they are not features of interest of this project."
   ]
  },
  {
   "cell_type": "code",
   "execution_count": 19,
   "id": "ce7a5caa-1d84-4283-b945-835b5ccc454b",
   "metadata": {},
   "outputs": [],
   "source": [
    "columns_to_drop = ['Lower bound', 'Upper bound', 'Year', 'Age', 'Sex', 'Cause of death or injury', 'Measure']"
   ]
  },
  {
   "cell_type": "code",
   "execution_count": 20,
   "id": "f888b2a3-aa01-4c44-83a4-40750139ac41",
   "metadata": {},
   "outputs": [],
   "source": [
    "anxiety_disorders_data.drop(columns = columns_to_drop, inplace = True)\n",
    "attention_deficit_hyperactivity_disorders_data.drop(columns = columns_to_drop, inplace = True)\n",
    "bipolar_disorders_data.drop(columns = columns_to_drop, inplace = True)\n",
    "depressive_disorders_data.drop(columns = columns_to_drop, inplace = True)\n",
    "schizophrenia_data.drop(columns = columns_to_drop, inplace = True)\n",
    "substance_use_disorders.drop(columns = columns_to_drop, inplace = True)"
   ]
  },
  {
   "cell_type": "markdown",
   "id": "7328ea29-ad7f-4672-9673-2d6a72856e97",
   "metadata": {},
   "source": [
    "### Merging the data about mental disorders rates into a common dataset"
   ]
  },
  {
   "cell_type": "code",
   "execution_count": 21,
   "id": "f7b822f0-a420-4e45-841d-fddc3114af95",
   "metadata": {},
   "outputs": [],
   "source": [
    "# The 'Value' columns will be renamed for better description of the features. 'Location' column will be renamed to 'country' for consistency with the other dataset.\n",
    "anxiety_disorders_data = anxiety_disorders_data.rename(columns = {'Value': 'anxiety_disorders_rate', 'Location': 'country'})\n",
    "attention_deficit_hyperactivity_disorders_data = attention_deficit_hyperactivity_disorders_data.rename(columns = {'Value': 'adh_disorders_rate', 'Location': 'country'})\n",
    "bipolar_disorders_data = bipolar_disorders_data.rename(columns = {'Value': 'biploar_disorders_rate', 'Location': 'country'})\n",
    "depressive_disorders_data = depressive_disorders_data.rename(columns = {'Value': 'depressive_disorders_rate', 'Location': 'country'})\n",
    "schizophrenia_data = schizophrenia_data.rename(columns = {'Value': 'schizophrenia_rate', 'Location': 'country'})\n",
    "substance_use_disorders_data = substance_use_disorders.rename(columns = {'Value': 'suds_rate', 'Location': 'country'})"
   ]
  },
  {
   "cell_type": "code",
   "execution_count": 23,
   "id": "23ab63d8-cc2c-4f15-b94c-2847e31695a5",
   "metadata": {},
   "outputs": [],
   "source": [
    "mental_disorders_data = reduce(\n",
    "    lambda x, y: pd.merge(x, y, on = 'country', how = 'inner'), [\n",
    "        anxiety_disorders_data, \n",
    "        attention_deficit_hyperactivity_disorders_data, \n",
    "        bipolar_disorders_data, \n",
    "        depressive_disorders_data, \n",
    "        schizophrenia_data, \n",
    "        substance_use_disorders_data\n",
    "    ]\n",
    ")"
   ]
  },
  {
   "cell_type": "markdown",
   "id": "c2a1a85b-d499-49b7-9c55-df3c100c5656",
   "metadata": {},
   "source": [
    "### Exploration and cleaning of resulted dataset"
   ]
  },
  {
   "cell_type": "code",
   "execution_count": 24,
   "id": "36137d78-df00-42e8-bc14-06753a568ad5",
   "metadata": {},
   "outputs": [
    {
     "data": {
      "text/html": [
       "<div>\n",
       "<style scoped>\n",
       "    .dataframe tbody tr th:only-of-type {\n",
       "        vertical-align: middle;\n",
       "    }\n",
       "\n",
       "    .dataframe tbody tr th {\n",
       "        vertical-align: top;\n",
       "    }\n",
       "\n",
       "    .dataframe thead th {\n",
       "        text-align: right;\n",
       "    }\n",
       "</style>\n",
       "<table border=\"1\" class=\"dataframe\">\n",
       "  <thead>\n",
       "    <tr style=\"text-align: right;\">\n",
       "      <th></th>\n",
       "      <th>country</th>\n",
       "      <th>anxiety_disorders_rate</th>\n",
       "      <th>adh_disorders_rate</th>\n",
       "      <th>biploar_disorders_rate</th>\n",
       "      <th>depressive_disorders_rate</th>\n",
       "      <th>schizophrenia_rate</th>\n",
       "      <th>suds_rate</th>\n",
       "    </tr>\n",
       "  </thead>\n",
       "  <tbody>\n",
       "    <tr>\n",
       "      <th>0</th>\n",
       "      <td>Afghanistan</td>\n",
       "      <td>6036.082637</td>\n",
       "      <td>1005.577242</td>\n",
       "      <td>710.996105</td>\n",
       "      <td>5915.655797</td>\n",
       "      <td>218.326830</td>\n",
       "      <td>412.593458</td>\n",
       "    </tr>\n",
       "    <tr>\n",
       "      <th>1</th>\n",
       "      <td>Angola</td>\n",
       "      <td>4124.190051</td>\n",
       "      <td>484.173188</td>\n",
       "      <td>501.630997</td>\n",
       "      <td>6772.060127</td>\n",
       "      <td>223.959914</td>\n",
       "      <td>276.524626</td>\n",
       "    </tr>\n",
       "    <tr>\n",
       "      <th>2</th>\n",
       "      <td>Albania</td>\n",
       "      <td>4620.548604</td>\n",
       "      <td>1014.314099</td>\n",
       "      <td>479.798202</td>\n",
       "      <td>2977.090487</td>\n",
       "      <td>221.339258</td>\n",
       "      <td>553.140324</td>\n",
       "    </tr>\n",
       "    <tr>\n",
       "      <th>3</th>\n",
       "      <td>Andorra</td>\n",
       "      <td>6651.337409</td>\n",
       "      <td>1290.713146</td>\n",
       "      <td>819.692991</td>\n",
       "      <td>4495.301885</td>\n",
       "      <td>271.422686</td>\n",
       "      <td>789.456777</td>\n",
       "    </tr>\n",
       "    <tr>\n",
       "      <th>4</th>\n",
       "      <td>United Arab Emirates</td>\n",
       "      <td>5168.099462</td>\n",
       "      <td>447.507189</td>\n",
       "      <td>712.909767</td>\n",
       "      <td>4332.425886</td>\n",
       "      <td>265.869204</td>\n",
       "      <td>731.819748</td>\n",
       "    </tr>\n",
       "    <tr>\n",
       "      <th>...</th>\n",
       "      <td>...</td>\n",
       "      <td>...</td>\n",
       "      <td>...</td>\n",
       "      <td>...</td>\n",
       "      <td>...</td>\n",
       "      <td>...</td>\n",
       "      <td>...</td>\n",
       "    </tr>\n",
       "    <tr>\n",
       "      <th>201</th>\n",
       "      <td>Egypt</td>\n",
       "      <td>5213.926877</td>\n",
       "      <td>1009.845662</td>\n",
       "      <td>687.032110</td>\n",
       "      <td>4605.408486</td>\n",
       "      <td>242.736640</td>\n",
       "      <td>368.037296</td>\n",
       "    </tr>\n",
       "    <tr>\n",
       "      <th>202</th>\n",
       "      <td>Sudan</td>\n",
       "      <td>5734.418328</td>\n",
       "      <td>1001.996846</td>\n",
       "      <td>714.821440</td>\n",
       "      <td>5034.728374</td>\n",
       "      <td>231.438860</td>\n",
       "      <td>378.282560</td>\n",
       "    </tr>\n",
       "    <tr>\n",
       "      <th>203</th>\n",
       "      <td>China</td>\n",
       "      <td>3481.741558</td>\n",
       "      <td>2183.990788</td>\n",
       "      <td>173.056811</td>\n",
       "      <td>2875.676654</td>\n",
       "      <td>312.364056</td>\n",
       "      <td>539.805342</td>\n",
       "    </tr>\n",
       "    <tr>\n",
       "      <th>204</th>\n",
       "      <td>Institute for Health Metrics and Evaluation (I...</td>\n",
       "      <td>NaN</td>\n",
       "      <td>NaN</td>\n",
       "      <td>NaN</td>\n",
       "      <td>NaN</td>\n",
       "      <td>NaN</td>\n",
       "      <td>NaN</td>\n",
       "    </tr>\n",
       "    <tr>\n",
       "      <th>205</th>\n",
       "      <td>For terms and conditions of use, please visit ...</td>\n",
       "      <td>NaN</td>\n",
       "      <td>NaN</td>\n",
       "      <td>NaN</td>\n",
       "      <td>NaN</td>\n",
       "      <td>NaN</td>\n",
       "      <td>NaN</td>\n",
       "    </tr>\n",
       "  </tbody>\n",
       "</table>\n",
       "<p>206 rows × 7 columns</p>\n",
       "</div>"
      ],
      "text/plain": [
       "                                               country  \\\n",
       "0                                          Afghanistan   \n",
       "1                                               Angola   \n",
       "2                                              Albania   \n",
       "3                                              Andorra   \n",
       "4                                 United Arab Emirates   \n",
       "..                                                 ...   \n",
       "201                                              Egypt   \n",
       "202                                              Sudan   \n",
       "203                                              China   \n",
       "204  Institute for Health Metrics and Evaluation (I...   \n",
       "205  For terms and conditions of use, please visit ...   \n",
       "\n",
       "     anxiety_disorders_rate  adh_disorders_rate  biploar_disorders_rate  \\\n",
       "0               6036.082637         1005.577242              710.996105   \n",
       "1               4124.190051          484.173188              501.630997   \n",
       "2               4620.548604         1014.314099              479.798202   \n",
       "3               6651.337409         1290.713146              819.692991   \n",
       "4               5168.099462          447.507189              712.909767   \n",
       "..                      ...                 ...                     ...   \n",
       "201             5213.926877         1009.845662              687.032110   \n",
       "202             5734.418328         1001.996846              714.821440   \n",
       "203             3481.741558         2183.990788              173.056811   \n",
       "204                     NaN                 NaN                     NaN   \n",
       "205                     NaN                 NaN                     NaN   \n",
       "\n",
       "     depressive_disorders_rate  schizophrenia_rate   suds_rate  \n",
       "0                  5915.655797          218.326830  412.593458  \n",
       "1                  6772.060127          223.959914  276.524626  \n",
       "2                  2977.090487          221.339258  553.140324  \n",
       "3                  4495.301885          271.422686  789.456777  \n",
       "4                  4332.425886          265.869204  731.819748  \n",
       "..                         ...                 ...         ...  \n",
       "201                4605.408486          242.736640  368.037296  \n",
       "202                5034.728374          231.438860  378.282560  \n",
       "203                2875.676654          312.364056  539.805342  \n",
       "204                        NaN                 NaN         NaN  \n",
       "205                        NaN                 NaN         NaN  \n",
       "\n",
       "[206 rows x 7 columns]"
      ]
     },
     "execution_count": 24,
     "metadata": {},
     "output_type": "execute_result"
    }
   ],
   "source": [
    "mental_disorders_data"
   ]
  },
  {
   "cell_type": "code",
   "execution_count": 25,
   "id": "8945483e-6369-4e54-aa5f-c68f2413fc59",
   "metadata": {},
   "outputs": [
    {
     "name": "stdout",
     "output_type": "stream",
     "text": [
      "<class 'pandas.core.frame.DataFrame'>\n",
      "RangeIndex: 206 entries, 0 to 205\n",
      "Data columns (total 7 columns):\n",
      " #   Column                     Non-Null Count  Dtype  \n",
      "---  ------                     --------------  -----  \n",
      " 0   country                    206 non-null    object \n",
      " 1   anxiety_disorders_rate     204 non-null    float64\n",
      " 2   adh_disorders_rate         204 non-null    float64\n",
      " 3   biploar_disorders_rate     204 non-null    float64\n",
      " 4   depressive_disorders_rate  204 non-null    float64\n",
      " 5   schizophrenia_rate         204 non-null    float64\n",
      " 6   suds_rate                  204 non-null    float64\n",
      "dtypes: float64(6), object(1)\n",
      "memory usage: 11.4+ KB\n"
     ]
    }
   ],
   "source": [
    "mental_disorders_data.info()"
   ]
  },
  {
   "cell_type": "code",
   "execution_count": 26,
   "id": "c35f1853-f9c9-493a-af76-da3142b550ad",
   "metadata": {},
   "outputs": [
    {
     "data": {
      "text/plain": [
       "array([False])"
      ]
     },
     "execution_count": 26,
     "metadata": {},
     "output_type": "execute_result"
    }
   ],
   "source": [
    "mental_disorders_data.duplicated().unique()"
   ]
  },
  {
   "cell_type": "markdown",
   "id": "52de0d95-e867-4330-9150-9cc4489fa0b3",
   "metadata": {},
   "source": [
    "The resulted dataset has 206 rows and 7 features.\n",
    "\n",
    "There are no duplicated observations nor missing values.\n",
    "\n",
    "The last two rows are not observatios but contain information about data provider and terms of use. It is safe to delete them."
   ]
  },
  {
   "cell_type": "code",
   "execution_count": 27,
   "id": "e3356de6-fdc1-4ee2-8c76-59d889681c09",
   "metadata": {},
   "outputs": [],
   "source": [
    "mental_disorders_data = mental_disorders_data.iloc[:-2]"
   ]
  },
  {
   "cell_type": "code",
   "execution_count": 28,
   "id": "a37249c4-9cc6-44c5-8723-287ebacf4c8a",
   "metadata": {},
   "outputs": [
    {
     "data": {
      "text/html": [
       "<div>\n",
       "<style scoped>\n",
       "    .dataframe tbody tr th:only-of-type {\n",
       "        vertical-align: middle;\n",
       "    }\n",
       "\n",
       "    .dataframe tbody tr th {\n",
       "        vertical-align: top;\n",
       "    }\n",
       "\n",
       "    .dataframe thead th {\n",
       "        text-align: right;\n",
       "    }\n",
       "</style>\n",
       "<table border=\"1\" class=\"dataframe\">\n",
       "  <thead>\n",
       "    <tr style=\"text-align: right;\">\n",
       "      <th></th>\n",
       "      <th>country</th>\n",
       "      <th>anxiety_disorders_rate</th>\n",
       "      <th>adh_disorders_rate</th>\n",
       "      <th>biploar_disorders_rate</th>\n",
       "      <th>depressive_disorders_rate</th>\n",
       "      <th>schizophrenia_rate</th>\n",
       "      <th>suds_rate</th>\n",
       "    </tr>\n",
       "  </thead>\n",
       "  <tbody>\n",
       "    <tr>\n",
       "      <th>202</th>\n",
       "      <td>Sudan</td>\n",
       "      <td>5734.418328</td>\n",
       "      <td>1001.996846</td>\n",
       "      <td>714.821440</td>\n",
       "      <td>5034.728374</td>\n",
       "      <td>231.438860</td>\n",
       "      <td>378.282560</td>\n",
       "    </tr>\n",
       "    <tr>\n",
       "      <th>203</th>\n",
       "      <td>China</td>\n",
       "      <td>3481.741558</td>\n",
       "      <td>2183.990788</td>\n",
       "      <td>173.056811</td>\n",
       "      <td>2875.676654</td>\n",
       "      <td>312.364056</td>\n",
       "      <td>539.805342</td>\n",
       "    </tr>\n",
       "  </tbody>\n",
       "</table>\n",
       "</div>"
      ],
      "text/plain": [
       "    country  anxiety_disorders_rate  adh_disorders_rate  \\\n",
       "202   Sudan             5734.418328         1001.996846   \n",
       "203   China             3481.741558         2183.990788   \n",
       "\n",
       "     biploar_disorders_rate  depressive_disorders_rate  schizophrenia_rate  \\\n",
       "202              714.821440                5034.728374          231.438860   \n",
       "203              173.056811                2875.676654          312.364056   \n",
       "\n",
       "      suds_rate  \n",
       "202  378.282560  \n",
       "203  539.805342  "
      ]
     },
     "execution_count": 28,
     "metadata": {},
     "output_type": "execute_result"
    }
   ],
   "source": [
    "mental_disorders_data.tail(2)"
   ]
  },
  {
   "cell_type": "code",
   "execution_count": 29,
   "id": "5924b1c0-8ca5-4b2e-99bb-7fd30a3e8382",
   "metadata": {},
   "outputs": [],
   "source": [
    "# The float values will be rounded for better readability.\n",
    "mental_disorders_data = mental_disorders_data.round(0)"
   ]
  },
  {
   "cell_type": "code",
   "execution_count": 30,
   "id": "7318c976-4683-4ca0-95ff-98ab5e6e4f77",
   "metadata": {},
   "outputs": [
    {
     "data": {
      "text/html": [
       "<div>\n",
       "<style scoped>\n",
       "    .dataframe tbody tr th:only-of-type {\n",
       "        vertical-align: middle;\n",
       "    }\n",
       "\n",
       "    .dataframe tbody tr th {\n",
       "        vertical-align: top;\n",
       "    }\n",
       "\n",
       "    .dataframe thead th {\n",
       "        text-align: right;\n",
       "    }\n",
       "</style>\n",
       "<table border=\"1\" class=\"dataframe\">\n",
       "  <thead>\n",
       "    <tr style=\"text-align: right;\">\n",
       "      <th></th>\n",
       "      <th>country</th>\n",
       "      <th>anxiety_disorders_rate</th>\n",
       "      <th>adh_disorders_rate</th>\n",
       "      <th>biploar_disorders_rate</th>\n",
       "      <th>depressive_disorders_rate</th>\n",
       "      <th>schizophrenia_rate</th>\n",
       "      <th>suds_rate</th>\n",
       "    </tr>\n",
       "  </thead>\n",
       "  <tbody>\n",
       "    <tr>\n",
       "      <th>0</th>\n",
       "      <td>Afghanistan</td>\n",
       "      <td>6036.0</td>\n",
       "      <td>1006.0</td>\n",
       "      <td>711.0</td>\n",
       "      <td>5916.0</td>\n",
       "      <td>218.0</td>\n",
       "      <td>413.0</td>\n",
       "    </tr>\n",
       "    <tr>\n",
       "      <th>1</th>\n",
       "      <td>Angola</td>\n",
       "      <td>4124.0</td>\n",
       "      <td>484.0</td>\n",
       "      <td>502.0</td>\n",
       "      <td>6772.0</td>\n",
       "      <td>224.0</td>\n",
       "      <td>277.0</td>\n",
       "    </tr>\n",
       "    <tr>\n",
       "      <th>2</th>\n",
       "      <td>Albania</td>\n",
       "      <td>4621.0</td>\n",
       "      <td>1014.0</td>\n",
       "      <td>480.0</td>\n",
       "      <td>2977.0</td>\n",
       "      <td>221.0</td>\n",
       "      <td>553.0</td>\n",
       "    </tr>\n",
       "  </tbody>\n",
       "</table>\n",
       "</div>"
      ],
      "text/plain": [
       "       country  anxiety_disorders_rate  adh_disorders_rate  \\\n",
       "0  Afghanistan                  6036.0              1006.0   \n",
       "1       Angola                  4124.0               484.0   \n",
       "2      Albania                  4621.0              1014.0   \n",
       "\n",
       "   biploar_disorders_rate  depressive_disorders_rate  schizophrenia_rate  \\\n",
       "0                   711.0                     5916.0               218.0   \n",
       "1                   502.0                     6772.0               224.0   \n",
       "2                   480.0                     2977.0               221.0   \n",
       "\n",
       "   suds_rate  \n",
       "0      413.0  \n",
       "1      277.0  \n",
       "2      553.0  "
      ]
     },
     "execution_count": 30,
     "metadata": {},
     "output_type": "execute_result"
    }
   ],
   "source": [
    "mental_disorders_data.head(3)"
   ]
  },
  {
   "cell_type": "code",
   "execution_count": 31,
   "id": "f15001d4-24fa-4bc7-8f30-de3ebcd414eb",
   "metadata": {},
   "outputs": [
    {
     "name": "stdout",
     "output_type": "stream",
     "text": [
      "<class 'pandas.core.frame.DataFrame'>\n",
      "RangeIndex: 204 entries, 0 to 203\n",
      "Data columns (total 7 columns):\n",
      " #   Column                     Non-Null Count  Dtype  \n",
      "---  ------                     --------------  -----  \n",
      " 0   country                    204 non-null    object \n",
      " 1   anxiety_disorders_rate     204 non-null    float64\n",
      " 2   adh_disorders_rate         204 non-null    float64\n",
      " 3   biploar_disorders_rate     204 non-null    float64\n",
      " 4   depressive_disorders_rate  204 non-null    float64\n",
      " 5   schizophrenia_rate         204 non-null    float64\n",
      " 6   suds_rate                  204 non-null    float64\n",
      "dtypes: float64(6), object(1)\n",
      "memory usage: 11.3+ KB\n"
     ]
    }
   ],
   "source": [
    "mental_disorders_data.info()"
   ]
  },
  {
   "cell_type": "markdown",
   "id": "2f946d77-3187-44fe-9126-7aa2b1804e6c",
   "metadata": {},
   "source": [
    "The dtypes of features in resulted dataframe are appropriate so no need to transform them."
   ]
  },
  {
   "cell_type": "markdown",
   "id": "b1accd4a-9440-455c-b9eb-0845aae3472b",
   "metadata": {},
   "source": [
    "### Saving transformed data\n",
    "The resulted dataset is saved for further use in the project."
   ]
  },
  {
   "cell_type": "code",
   "execution_count": 32,
   "id": "4863647f-8a5b-4b0d-a0ba-4a1e9554e47a",
   "metadata": {},
   "outputs": [],
   "source": [
    "mental_disorders_data.to_csv('data/preprocessed_datasets/mental_disorders_by_country.csv', index = False)"
   ]
  },
  {
   "cell_type": "markdown",
   "id": "dad27934-78b0-44a6-a44c-18fca80bee53",
   "metadata": {},
   "source": [
    "<a id='references'></a>"
   ]
  },
  {
   "cell_type": "markdown",
   "id": "c7f5cd4b-2090-4f28-b286-9ec6238bb4f0",
   "metadata": {},
   "source": [
    "### References\n",
    "1. [Age standardization - ourworldindata.org](https://ourworldindata.org/age-standardization)"
   ]
  },
  {
   "cell_type": "code",
   "execution_count": null,
   "id": "1f59416e-714e-4c86-81fa-09804ff3f1bc",
   "metadata": {},
   "outputs": [],
   "source": []
  }
 ],
 "metadata": {
  "kernelspec": {
   "display_name": "Python 3 (ipykernel)",
   "language": "python",
   "name": "python3"
  },
  "language_info": {
   "codemirror_mode": {
    "name": "ipython",
    "version": 3
   },
   "file_extension": ".py",
   "mimetype": "text/x-python",
   "name": "python",
   "nbconvert_exporter": "python",
   "pygments_lexer": "ipython3",
   "version": "3.11.9"
  }
 },
 "nbformat": 4,
 "nbformat_minor": 5
}
